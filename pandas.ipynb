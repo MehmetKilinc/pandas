{
 "cells": [
  {
   "cell_type": "code",
   "execution_count": 2,
   "id": "aaf77eaa",
   "metadata": {},
   "outputs": [],
   "source": [
    "import numpy \n",
    "import pandas"
   ]
  },
  {
   "cell_type": "code",
   "execution_count": 3,
   "id": "a0e9db2f",
   "metadata": {},
   "outputs": [],
   "source": [
    "liste1 = [\"python\",\"java\",\"html\"]"
   ]
  },
  {
   "cell_type": "code",
   "execution_count": 4,
   "id": "27d02073",
   "metadata": {},
   "outputs": [],
   "source": [
    "liste2 = [10,20,30]"
   ]
  },
  {
   "cell_type": "code",
   "execution_count": 5,
   "id": "0445d2a2",
   "metadata": {},
   "outputs": [
    {
     "data": {
      "text/plain": [
       "10    python\n",
       "20      java\n",
       "30      html\n",
       "dtype: object"
      ]
     },
     "execution_count": 5,
     "metadata": {},
     "output_type": "execute_result"
    }
   ],
   "source": [
    "pandas.Series(liste1,liste2)"
   ]
  },
  {
   "cell_type": "code",
   "execution_count": 6,
   "id": "c9a9357d",
   "metadata": {},
   "outputs": [
    {
     "data": {
      "text/plain": [
       "0    python\n",
       "1      java\n",
       "2      html\n",
       "dtype: object"
      ]
     },
     "execution_count": 6,
     "metadata": {},
     "output_type": "execute_result"
    }
   ],
   "source": [
    "pandas.Series(liste1)"
   ]
  },
  {
   "cell_type": "code",
   "execution_count": 7,
   "id": "e11e4888",
   "metadata": {},
   "outputs": [],
   "source": [
    "dizi = numpy.array([10,20,30,40,50])    "
   ]
  },
  {
   "cell_type": "code",
   "execution_count": 8,
   "id": "4bd910dc",
   "metadata": {},
   "outputs": [
    {
     "data": {
      "text/plain": [
       "array([10, 20, 30, 40, 50])"
      ]
     },
     "execution_count": 8,
     "metadata": {},
     "output_type": "execute_result"
    }
   ],
   "source": [
    "dizi"
   ]
  },
  {
   "cell_type": "code",
   "execution_count": 9,
   "id": "c0fc66bc",
   "metadata": {},
   "outputs": [
    {
     "data": {
      "text/plain": [
       "0    10\n",
       "1    20\n",
       "2    30\n",
       "3    40\n",
       "4    50\n",
       "dtype: int32"
      ]
     },
     "execution_count": 9,
     "metadata": {},
     "output_type": "execute_result"
    }
   ],
   "source": [
    "pandas.Series(dizi)"
   ]
  },
  {
   "cell_type": "code",
   "execution_count": 10,
   "id": "c8c32da2",
   "metadata": {},
   "outputs": [
    {
     "data": {
      "text/plain": [
       "A    10\n",
       "B    20\n",
       "C    30\n",
       "D    40\n",
       "E    50\n",
       "dtype: int32"
      ]
     },
     "execution_count": 10,
     "metadata": {},
     "output_type": "execute_result"
    }
   ],
   "source": [
    "pandas.Series(data = dizi , index = [\"A\",\"B\",\"C\",\"D\",\"E\"])"
   ]
  },
  {
   "cell_type": "code",
   "execution_count": 11,
   "id": "27770a99",
   "metadata": {},
   "outputs": [],
   "source": [
    "sozluk = {\"java\":10,\"python\":20,\"hmtl\":30}"
   ]
  },
  {
   "cell_type": "code",
   "execution_count": 12,
   "id": "6d1f9a32",
   "metadata": {},
   "outputs": [
    {
     "data": {
      "text/plain": [
       "java      10\n",
       "python    20\n",
       "hmtl      30\n",
       "dtype: int64"
      ]
     },
     "execution_count": 12,
     "metadata": {},
     "output_type": "execute_result"
    }
   ],
   "source": [
    "pandas.Series(sozluk)"
   ]
  },
  {
   "cell_type": "code",
   "execution_count": 13,
   "id": "2fc34047",
   "metadata": {},
   "outputs": [],
   "source": [
    "seri1 = pandas.Series([10,20,30],[\"java\",\"python\",\"html\"])"
   ]
  },
  {
   "cell_type": "code",
   "execution_count": 14,
   "id": "b60e9338",
   "metadata": {},
   "outputs": [],
   "source": [
    "seri2 = pandas.Series([1,2,3],[\"java\",\"python\",\"css\"])"
   ]
  },
  {
   "cell_type": "code",
   "execution_count": 15,
   "id": "e516baff",
   "metadata": {},
   "outputs": [
    {
     "data": {
      "text/plain": [
       "css        NaN\n",
       "html       NaN\n",
       "java      11.0\n",
       "python    22.0\n",
       "dtype: float64"
      ]
     },
     "execution_count": 15,
     "metadata": {},
     "output_type": "execute_result"
    }
   ],
   "source": [
    "seri1 + seri2"
   ]
  },
  {
   "cell_type": "code",
   "execution_count": 16,
   "id": "af52114b",
   "metadata": {},
   "outputs": [],
   "source": [
    "toplam = seri1 + seri2"
   ]
  },
  {
   "cell_type": "code",
   "execution_count": 17,
   "id": "e0ce3061",
   "metadata": {},
   "outputs": [
    {
     "data": {
      "text/plain": [
       "nan"
      ]
     },
     "execution_count": 17,
     "metadata": {},
     "output_type": "execute_result"
    }
   ],
   "source": [
    "toplam[\"css\"]"
   ]
  },
  {
   "cell_type": "code",
   "execution_count": 18,
   "id": "8642e58a",
   "metadata": {},
   "outputs": [
    {
     "data": {
      "text/plain": [
       "22.0"
      ]
     },
     "execution_count": 18,
     "metadata": {},
     "output_type": "execute_result"
    }
   ],
   "source": [
    "toplam[\"python\"]"
   ]
  },
  {
   "cell_type": "code",
   "execution_count": 19,
   "id": "2a6bc97e",
   "metadata": {},
   "outputs": [
    {
     "data": {
      "text/plain": [
       "array([[-0.54068361,  0.41996204,  1.67279286],\n",
       "       [-0.0902658 , -1.29250427, -1.22656229],\n",
       "       [ 1.88388132, -0.85148825, -1.67079252]])"
      ]
     },
     "execution_count": 19,
     "metadata": {},
     "output_type": "execute_result"
    }
   ],
   "source": [
    "numpy.random.randn(3,3)"
   ]
  },
  {
   "cell_type": "code",
   "execution_count": 20,
   "id": "2405d1a6",
   "metadata": {},
   "outputs": [],
   "source": [
    "dataframe = pandas.DataFrame(data = numpy.random.randn(3,3),index = [\"A\",\"B\",\"C\"],columns = [\"kolon1\",\"kolon2\",\"kolon3\"])"
   ]
  },
  {
   "cell_type": "code",
   "execution_count": 21,
   "id": "7b3fb68d",
   "metadata": {},
   "outputs": [
    {
     "data": {
      "text/html": [
       "<div>\n",
       "<style scoped>\n",
       "    .dataframe tbody tr th:only-of-type {\n",
       "        vertical-align: middle;\n",
       "    }\n",
       "\n",
       "    .dataframe tbody tr th {\n",
       "        vertical-align: top;\n",
       "    }\n",
       "\n",
       "    .dataframe thead th {\n",
       "        text-align: right;\n",
       "    }\n",
       "</style>\n",
       "<table border=\"1\" class=\"dataframe\">\n",
       "  <thead>\n",
       "    <tr style=\"text-align: right;\">\n",
       "      <th></th>\n",
       "      <th>kolon1</th>\n",
       "      <th>kolon2</th>\n",
       "      <th>kolon3</th>\n",
       "    </tr>\n",
       "  </thead>\n",
       "  <tbody>\n",
       "    <tr>\n",
       "      <th>A</th>\n",
       "      <td>-0.653011</td>\n",
       "      <td>1.545821</td>\n",
       "      <td>0.232361</td>\n",
       "    </tr>\n",
       "    <tr>\n",
       "      <th>B</th>\n",
       "      <td>0.698335</td>\n",
       "      <td>0.886753</td>\n",
       "      <td>-0.326346</td>\n",
       "    </tr>\n",
       "    <tr>\n",
       "      <th>C</th>\n",
       "      <td>0.098593</td>\n",
       "      <td>-1.330973</td>\n",
       "      <td>-0.404135</td>\n",
       "    </tr>\n",
       "  </tbody>\n",
       "</table>\n",
       "</div>"
      ],
      "text/plain": [
       "     kolon1    kolon2    kolon3\n",
       "A -0.653011  1.545821  0.232361\n",
       "B  0.698335  0.886753 -0.326346\n",
       "C  0.098593 -1.330973 -0.404135"
      ]
     },
     "execution_count": 21,
     "metadata": {},
     "output_type": "execute_result"
    }
   ],
   "source": [
    "dataframe"
   ]
  },
  {
   "cell_type": "code",
   "execution_count": 22,
   "id": "bd452ff5",
   "metadata": {},
   "outputs": [
    {
     "data": {
      "text/plain": [
       "A   -0.653011\n",
       "B    0.698335\n",
       "C    0.098593\n",
       "Name: kolon1, dtype: float64"
      ]
     },
     "execution_count": 22,
     "metadata": {},
     "output_type": "execute_result"
    }
   ],
   "source": [
    "dataframe[\"kolon1\"]"
   ]
  },
  {
   "cell_type": "code",
   "execution_count": 23,
   "id": "dea18402",
   "metadata": {},
   "outputs": [
    {
     "data": {
      "text/plain": [
       "kolon1   -0.653011\n",
       "kolon2    1.545821\n",
       "kolon3    0.232361\n",
       "Name: A, dtype: float64"
      ]
     },
     "execution_count": 23,
     "metadata": {},
     "output_type": "execute_result"
    }
   ],
   "source": [
    "dataframe.loc[\"A\"]"
   ]
  },
  {
   "cell_type": "code",
   "execution_count": 24,
   "id": "02aa95ce",
   "metadata": {},
   "outputs": [
    {
     "data": {
      "text/html": [
       "<div>\n",
       "<style scoped>\n",
       "    .dataframe tbody tr th:only-of-type {\n",
       "        vertical-align: middle;\n",
       "    }\n",
       "\n",
       "    .dataframe tbody tr th {\n",
       "        vertical-align: top;\n",
       "    }\n",
       "\n",
       "    .dataframe thead th {\n",
       "        text-align: right;\n",
       "    }\n",
       "</style>\n",
       "<table border=\"1\" class=\"dataframe\">\n",
       "  <thead>\n",
       "    <tr style=\"text-align: right;\">\n",
       "      <th></th>\n",
       "      <th>kolon1</th>\n",
       "      <th>kolon2</th>\n",
       "    </tr>\n",
       "  </thead>\n",
       "  <tbody>\n",
       "    <tr>\n",
       "      <th>A</th>\n",
       "      <td>-0.653011</td>\n",
       "      <td>1.545821</td>\n",
       "    </tr>\n",
       "    <tr>\n",
       "      <th>B</th>\n",
       "      <td>0.698335</td>\n",
       "      <td>0.886753</td>\n",
       "    </tr>\n",
       "    <tr>\n",
       "      <th>C</th>\n",
       "      <td>0.098593</td>\n",
       "      <td>-1.330973</td>\n",
       "    </tr>\n",
       "  </tbody>\n",
       "</table>\n",
       "</div>"
      ],
      "text/plain": [
       "     kolon1    kolon2\n",
       "A -0.653011  1.545821\n",
       "B  0.698335  0.886753\n",
       "C  0.098593 -1.330973"
      ]
     },
     "execution_count": 24,
     "metadata": {},
     "output_type": "execute_result"
    }
   ],
   "source": [
    "dataframe[[\"kolon1\",\"kolon2\"]]"
   ]
  },
  {
   "cell_type": "code",
   "execution_count": 25,
   "id": "08e92157",
   "metadata": {},
   "outputs": [],
   "source": [
    "dataframe[\"kolon4\"] = pandas.Series(numpy.random.randn(3),[\"A\",\"B\",\"C\"])"
   ]
  },
  {
   "cell_type": "code",
   "execution_count": 26,
   "id": "a761c07a",
   "metadata": {},
   "outputs": [
    {
     "data": {
      "text/html": [
       "<div>\n",
       "<style scoped>\n",
       "    .dataframe tbody tr th:only-of-type {\n",
       "        vertical-align: middle;\n",
       "    }\n",
       "\n",
       "    .dataframe tbody tr th {\n",
       "        vertical-align: top;\n",
       "    }\n",
       "\n",
       "    .dataframe thead th {\n",
       "        text-align: right;\n",
       "    }\n",
       "</style>\n",
       "<table border=\"1\" class=\"dataframe\">\n",
       "  <thead>\n",
       "    <tr style=\"text-align: right;\">\n",
       "      <th></th>\n",
       "      <th>kolon1</th>\n",
       "      <th>kolon2</th>\n",
       "      <th>kolon3</th>\n",
       "      <th>kolon4</th>\n",
       "    </tr>\n",
       "  </thead>\n",
       "  <tbody>\n",
       "    <tr>\n",
       "      <th>A</th>\n",
       "      <td>-0.653011</td>\n",
       "      <td>1.545821</td>\n",
       "      <td>0.232361</td>\n",
       "      <td>-1.002226</td>\n",
       "    </tr>\n",
       "    <tr>\n",
       "      <th>B</th>\n",
       "      <td>0.698335</td>\n",
       "      <td>0.886753</td>\n",
       "      <td>-0.326346</td>\n",
       "      <td>0.873368</td>\n",
       "    </tr>\n",
       "    <tr>\n",
       "      <th>C</th>\n",
       "      <td>0.098593</td>\n",
       "      <td>-1.330973</td>\n",
       "      <td>-0.404135</td>\n",
       "      <td>0.498811</td>\n",
       "    </tr>\n",
       "  </tbody>\n",
       "</table>\n",
       "</div>"
      ],
      "text/plain": [
       "     kolon1    kolon2    kolon3    kolon4\n",
       "A -0.653011  1.545821  0.232361 -1.002226\n",
       "B  0.698335  0.886753 -0.326346  0.873368\n",
       "C  0.098593 -1.330973 -0.404135  0.498811"
      ]
     },
     "execution_count": 26,
     "metadata": {},
     "output_type": "execute_result"
    }
   ],
   "source": [
    "dataframe"
   ]
  },
  {
   "cell_type": "code",
   "execution_count": 27,
   "id": "9a04c7e4",
   "metadata": {},
   "outputs": [],
   "source": [
    "dataframe[\"kolon5\"] = dataframe[\"kolon1\"] + dataframe[\"kolon3\"]"
   ]
  },
  {
   "cell_type": "code",
   "execution_count": 28,
   "id": "a131e15f",
   "metadata": {},
   "outputs": [
    {
     "data": {
      "text/html": [
       "<div>\n",
       "<style scoped>\n",
       "    .dataframe tbody tr th:only-of-type {\n",
       "        vertical-align: middle;\n",
       "    }\n",
       "\n",
       "    .dataframe tbody tr th {\n",
       "        vertical-align: top;\n",
       "    }\n",
       "\n",
       "    .dataframe thead th {\n",
       "        text-align: right;\n",
       "    }\n",
       "</style>\n",
       "<table border=\"1\" class=\"dataframe\">\n",
       "  <thead>\n",
       "    <tr style=\"text-align: right;\">\n",
       "      <th></th>\n",
       "      <th>kolon1</th>\n",
       "      <th>kolon2</th>\n",
       "      <th>kolon3</th>\n",
       "      <th>kolon4</th>\n",
       "      <th>kolon5</th>\n",
       "    </tr>\n",
       "  </thead>\n",
       "  <tbody>\n",
       "    <tr>\n",
       "      <th>A</th>\n",
       "      <td>-0.653011</td>\n",
       "      <td>1.545821</td>\n",
       "      <td>0.232361</td>\n",
       "      <td>-1.002226</td>\n",
       "      <td>-0.420650</td>\n",
       "    </tr>\n",
       "    <tr>\n",
       "      <th>B</th>\n",
       "      <td>0.698335</td>\n",
       "      <td>0.886753</td>\n",
       "      <td>-0.326346</td>\n",
       "      <td>0.873368</td>\n",
       "      <td>0.371988</td>\n",
       "    </tr>\n",
       "    <tr>\n",
       "      <th>C</th>\n",
       "      <td>0.098593</td>\n",
       "      <td>-1.330973</td>\n",
       "      <td>-0.404135</td>\n",
       "      <td>0.498811</td>\n",
       "      <td>-0.305542</td>\n",
       "    </tr>\n",
       "  </tbody>\n",
       "</table>\n",
       "</div>"
      ],
      "text/plain": [
       "     kolon1    kolon2    kolon3    kolon4    kolon5\n",
       "A -0.653011  1.545821  0.232361 -1.002226 -0.420650\n",
       "B  0.698335  0.886753 -0.326346  0.873368  0.371988\n",
       "C  0.098593 -1.330973 -0.404135  0.498811 -0.305542"
      ]
     },
     "execution_count": 28,
     "metadata": {},
     "output_type": "execute_result"
    }
   ],
   "source": [
    "dataframe"
   ]
  },
  {
   "cell_type": "code",
   "execution_count": 29,
   "id": "f0cf421e",
   "metadata": {},
   "outputs": [
    {
     "data": {
      "text/html": [
       "<div>\n",
       "<style scoped>\n",
       "    .dataframe tbody tr th:only-of-type {\n",
       "        vertical-align: middle;\n",
       "    }\n",
       "\n",
       "    .dataframe tbody tr th {\n",
       "        vertical-align: top;\n",
       "    }\n",
       "\n",
       "    .dataframe thead th {\n",
       "        text-align: right;\n",
       "    }\n",
       "</style>\n",
       "<table border=\"1\" class=\"dataframe\">\n",
       "  <thead>\n",
       "    <tr style=\"text-align: right;\">\n",
       "      <th></th>\n",
       "      <th>kolon1</th>\n",
       "      <th>kolon2</th>\n",
       "      <th>kolon3</th>\n",
       "      <th>kolon4</th>\n",
       "    </tr>\n",
       "  </thead>\n",
       "  <tbody>\n",
       "    <tr>\n",
       "      <th>A</th>\n",
       "      <td>-0.653011</td>\n",
       "      <td>1.545821</td>\n",
       "      <td>0.232361</td>\n",
       "      <td>-1.002226</td>\n",
       "    </tr>\n",
       "    <tr>\n",
       "      <th>B</th>\n",
       "      <td>0.698335</td>\n",
       "      <td>0.886753</td>\n",
       "      <td>-0.326346</td>\n",
       "      <td>0.873368</td>\n",
       "    </tr>\n",
       "    <tr>\n",
       "      <th>C</th>\n",
       "      <td>0.098593</td>\n",
       "      <td>-1.330973</td>\n",
       "      <td>-0.404135</td>\n",
       "      <td>0.498811</td>\n",
       "    </tr>\n",
       "  </tbody>\n",
       "</table>\n",
       "</div>"
      ],
      "text/plain": [
       "     kolon1    kolon2    kolon3    kolon4\n",
       "A -0.653011  1.545821  0.232361 -1.002226\n",
       "B  0.698335  0.886753 -0.326346  0.873368\n",
       "C  0.098593 -1.330973 -0.404135  0.498811"
      ]
     },
     "execution_count": 29,
     "metadata": {},
     "output_type": "execute_result"
    }
   ],
   "source": [
    "dataframe.drop(\"kolon5\",axis = 1)  #kolon5 i siler . kolon silmek istersek axis e bir yazmalıyız"
   ]
  },
  {
   "cell_type": "code",
   "execution_count": 30,
   "id": "6c766b2d",
   "metadata": {},
   "outputs": [
    {
     "data": {
      "text/html": [
       "<div>\n",
       "<style scoped>\n",
       "    .dataframe tbody tr th:only-of-type {\n",
       "        vertical-align: middle;\n",
       "    }\n",
       "\n",
       "    .dataframe tbody tr th {\n",
       "        vertical-align: top;\n",
       "    }\n",
       "\n",
       "    .dataframe thead th {\n",
       "        text-align: right;\n",
       "    }\n",
       "</style>\n",
       "<table border=\"1\" class=\"dataframe\">\n",
       "  <thead>\n",
       "    <tr style=\"text-align: right;\">\n",
       "      <th></th>\n",
       "      <th>kolon1</th>\n",
       "      <th>kolon2</th>\n",
       "      <th>kolon3</th>\n",
       "      <th>kolon4</th>\n",
       "      <th>kolon5</th>\n",
       "    </tr>\n",
       "  </thead>\n",
       "  <tbody>\n",
       "    <tr>\n",
       "      <th>A</th>\n",
       "      <td>-0.653011</td>\n",
       "      <td>1.545821</td>\n",
       "      <td>0.232361</td>\n",
       "      <td>-1.002226</td>\n",
       "      <td>-0.420650</td>\n",
       "    </tr>\n",
       "    <tr>\n",
       "      <th>B</th>\n",
       "      <td>0.698335</td>\n",
       "      <td>0.886753</td>\n",
       "      <td>-0.326346</td>\n",
       "      <td>0.873368</td>\n",
       "      <td>0.371988</td>\n",
       "    </tr>\n",
       "    <tr>\n",
       "      <th>C</th>\n",
       "      <td>0.098593</td>\n",
       "      <td>-1.330973</td>\n",
       "      <td>-0.404135</td>\n",
       "      <td>0.498811</td>\n",
       "      <td>-0.305542</td>\n",
       "    </tr>\n",
       "  </tbody>\n",
       "</table>\n",
       "</div>"
      ],
      "text/plain": [
       "     kolon1    kolon2    kolon3    kolon4    kolon5\n",
       "A -0.653011  1.545821  0.232361 -1.002226 -0.420650\n",
       "B  0.698335  0.886753 -0.326346  0.873368  0.371988\n",
       "C  0.098593 -1.330973 -0.404135  0.498811 -0.305542"
      ]
     },
     "execution_count": 30,
     "metadata": {},
     "output_type": "execute_result"
    }
   ],
   "source": [
    "dataframe          #kolon5 tekrardan geri geldi"
   ]
  },
  {
   "cell_type": "code",
   "execution_count": 31,
   "id": "9fb91b63",
   "metadata": {},
   "outputs": [],
   "source": [
    "dataframe.drop(\"kolon5\",axis = 1,inplace = True)   #bu şekilde kalıcı siler"
   ]
  },
  {
   "cell_type": "code",
   "execution_count": 32,
   "id": "44bc6d6d",
   "metadata": {},
   "outputs": [
    {
     "data": {
      "text/plain": [
       "kolon1   -0.653011\n",
       "kolon2    1.545821\n",
       "kolon3    0.232361\n",
       "kolon4   -1.002226\n",
       "Name: A, dtype: float64"
      ]
     },
     "execution_count": 32,
     "metadata": {},
     "output_type": "execute_result"
    }
   ],
   "source": [
    "dataframe.loc[\"A\"]"
   ]
  },
  {
   "cell_type": "code",
   "execution_count": 33,
   "id": "11fb605e",
   "metadata": {},
   "outputs": [
    {
     "data": {
      "text/plain": [
       "kolon1   -0.653011\n",
       "kolon2    1.545821\n",
       "kolon3    0.232361\n",
       "kolon4   -1.002226\n",
       "Name: A, dtype: float64"
      ]
     },
     "execution_count": 33,
     "metadata": {},
     "output_type": "execute_result"
    }
   ],
   "source": [
    "dataframe.iloc[0]"
   ]
  },
  {
   "cell_type": "code",
   "execution_count": 34,
   "id": "48a2e4bf",
   "metadata": {},
   "outputs": [
    {
     "data": {
      "text/plain": [
       "-1.0022262818735592"
      ]
     },
     "execution_count": 34,
     "metadata": {},
     "output_type": "execute_result"
    }
   ],
   "source": [
    "dataframe.loc[\"A\",\"kolon4\"]"
   ]
  },
  {
   "cell_type": "code",
   "execution_count": 35,
   "id": "7e55bd03",
   "metadata": {},
   "outputs": [
    {
     "data": {
      "text/html": [
       "<div>\n",
       "<style scoped>\n",
       "    .dataframe tbody tr th:only-of-type {\n",
       "        vertical-align: middle;\n",
       "    }\n",
       "\n",
       "    .dataframe tbody tr th {\n",
       "        vertical-align: top;\n",
       "    }\n",
       "\n",
       "    .dataframe thead th {\n",
       "        text-align: right;\n",
       "    }\n",
       "</style>\n",
       "<table border=\"1\" class=\"dataframe\">\n",
       "  <thead>\n",
       "    <tr style=\"text-align: right;\">\n",
       "      <th></th>\n",
       "      <th>kolon1</th>\n",
       "      <th>kolon2</th>\n",
       "    </tr>\n",
       "  </thead>\n",
       "  <tbody>\n",
       "    <tr>\n",
       "      <th>A</th>\n",
       "      <td>-0.653011</td>\n",
       "      <td>1.545821</td>\n",
       "    </tr>\n",
       "    <tr>\n",
       "      <th>B</th>\n",
       "      <td>0.698335</td>\n",
       "      <td>0.886753</td>\n",
       "    </tr>\n",
       "  </tbody>\n",
       "</table>\n",
       "</div>"
      ],
      "text/plain": [
       "     kolon1    kolon2\n",
       "A -0.653011  1.545821\n",
       "B  0.698335  0.886753"
      ]
     },
     "execution_count": 35,
     "metadata": {},
     "output_type": "execute_result"
    }
   ],
   "source": [
    "dataframe.loc[[\"A\",\"B\"],[\"kolon1\",\"kolon2\"]]"
   ]
  },
  {
   "cell_type": "code",
   "execution_count": 36,
   "id": "d46a6de7",
   "metadata": {},
   "outputs": [],
   "source": [
    "dataframe = pandas.DataFrame(numpy.random.randn(4,3),[\"A\",\"B\",\"C\",\"D\"],[\"kolon1\",\"kolon2\",\"kolon3\"])"
   ]
  },
  {
   "cell_type": "code",
   "execution_count": 37,
   "id": "8ae00f81",
   "metadata": {},
   "outputs": [
    {
     "data": {
      "text/html": [
       "<div>\n",
       "<style scoped>\n",
       "    .dataframe tbody tr th:only-of-type {\n",
       "        vertical-align: middle;\n",
       "    }\n",
       "\n",
       "    .dataframe tbody tr th {\n",
       "        vertical-align: top;\n",
       "    }\n",
       "\n",
       "    .dataframe thead th {\n",
       "        text-align: right;\n",
       "    }\n",
       "</style>\n",
       "<table border=\"1\" class=\"dataframe\">\n",
       "  <thead>\n",
       "    <tr style=\"text-align: right;\">\n",
       "      <th></th>\n",
       "      <th>kolon1</th>\n",
       "      <th>kolon2</th>\n",
       "      <th>kolon3</th>\n",
       "    </tr>\n",
       "  </thead>\n",
       "  <tbody>\n",
       "    <tr>\n",
       "      <th>A</th>\n",
       "      <td>2.343784</td>\n",
       "      <td>-1.373339</td>\n",
       "      <td>-0.120889</td>\n",
       "    </tr>\n",
       "    <tr>\n",
       "      <th>B</th>\n",
       "      <td>-1.004477</td>\n",
       "      <td>-0.447792</td>\n",
       "      <td>-1.430073</td>\n",
       "    </tr>\n",
       "    <tr>\n",
       "      <th>C</th>\n",
       "      <td>-0.872891</td>\n",
       "      <td>0.616486</td>\n",
       "      <td>-1.913600</td>\n",
       "    </tr>\n",
       "    <tr>\n",
       "      <th>D</th>\n",
       "      <td>0.595521</td>\n",
       "      <td>-0.206129</td>\n",
       "      <td>0.050267</td>\n",
       "    </tr>\n",
       "  </tbody>\n",
       "</table>\n",
       "</div>"
      ],
      "text/plain": [
       "     kolon1    kolon2    kolon3\n",
       "A  2.343784 -1.373339 -0.120889\n",
       "B -1.004477 -0.447792 -1.430073\n",
       "C -0.872891  0.616486 -1.913600\n",
       "D  0.595521 -0.206129  0.050267"
      ]
     },
     "execution_count": 37,
     "metadata": {},
     "output_type": "execute_result"
    }
   ],
   "source": [
    "dataframe"
   ]
  },
  {
   "cell_type": "code",
   "execution_count": 38,
   "id": "33024374",
   "metadata": {},
   "outputs": [
    {
     "data": {
      "text/html": [
       "<div>\n",
       "<style scoped>\n",
       "    .dataframe tbody tr th:only-of-type {\n",
       "        vertical-align: middle;\n",
       "    }\n",
       "\n",
       "    .dataframe tbody tr th {\n",
       "        vertical-align: top;\n",
       "    }\n",
       "\n",
       "    .dataframe thead th {\n",
       "        text-align: right;\n",
       "    }\n",
       "</style>\n",
       "<table border=\"1\" class=\"dataframe\">\n",
       "  <thead>\n",
       "    <tr style=\"text-align: right;\">\n",
       "      <th></th>\n",
       "      <th>kolon1</th>\n",
       "      <th>kolon2</th>\n",
       "      <th>kolon3</th>\n",
       "    </tr>\n",
       "  </thead>\n",
       "  <tbody>\n",
       "    <tr>\n",
       "      <th>A</th>\n",
       "      <td>True</td>\n",
       "      <td>False</td>\n",
       "      <td>False</td>\n",
       "    </tr>\n",
       "    <tr>\n",
       "      <th>B</th>\n",
       "      <td>False</td>\n",
       "      <td>False</td>\n",
       "      <td>False</td>\n",
       "    </tr>\n",
       "    <tr>\n",
       "      <th>C</th>\n",
       "      <td>False</td>\n",
       "      <td>True</td>\n",
       "      <td>False</td>\n",
       "    </tr>\n",
       "    <tr>\n",
       "      <th>D</th>\n",
       "      <td>True</td>\n",
       "      <td>False</td>\n",
       "      <td>False</td>\n",
       "    </tr>\n",
       "  </tbody>\n",
       "</table>\n",
       "</div>"
      ],
      "text/plain": [
       "   kolon1  kolon2  kolon3\n",
       "A    True   False   False\n",
       "B   False   False   False\n",
       "C   False    True   False\n",
       "D    True   False   False"
      ]
     },
     "execution_count": 38,
     "metadata": {},
     "output_type": "execute_result"
    }
   ],
   "source": [
    "dataframe > 0.5"
   ]
  },
  {
   "cell_type": "code",
   "execution_count": 39,
   "id": "a0bf4d4b",
   "metadata": {},
   "outputs": [
    {
     "data": {
      "text/html": [
       "<div>\n",
       "<style scoped>\n",
       "    .dataframe tbody tr th:only-of-type {\n",
       "        vertical-align: middle;\n",
       "    }\n",
       "\n",
       "    .dataframe tbody tr th {\n",
       "        vertical-align: top;\n",
       "    }\n",
       "\n",
       "    .dataframe thead th {\n",
       "        text-align: right;\n",
       "    }\n",
       "</style>\n",
       "<table border=\"1\" class=\"dataframe\">\n",
       "  <thead>\n",
       "    <tr style=\"text-align: right;\">\n",
       "      <th></th>\n",
       "      <th>kolon1</th>\n",
       "      <th>kolon2</th>\n",
       "      <th>kolon3</th>\n",
       "    </tr>\n",
       "  </thead>\n",
       "  <tbody>\n",
       "    <tr>\n",
       "      <th>A</th>\n",
       "      <td>False</td>\n",
       "      <td>True</td>\n",
       "      <td>True</td>\n",
       "    </tr>\n",
       "    <tr>\n",
       "      <th>B</th>\n",
       "      <td>True</td>\n",
       "      <td>True</td>\n",
       "      <td>True</td>\n",
       "    </tr>\n",
       "    <tr>\n",
       "      <th>C</th>\n",
       "      <td>True</td>\n",
       "      <td>False</td>\n",
       "      <td>True</td>\n",
       "    </tr>\n",
       "    <tr>\n",
       "      <th>D</th>\n",
       "      <td>False</td>\n",
       "      <td>True</td>\n",
       "      <td>False</td>\n",
       "    </tr>\n",
       "  </tbody>\n",
       "</table>\n",
       "</div>"
      ],
      "text/plain": [
       "   kolon1  kolon2  kolon3\n",
       "A   False    True    True\n",
       "B    True    True    True\n",
       "C    True   False    True\n",
       "D   False    True   False"
      ]
     },
     "execution_count": 39,
     "metadata": {},
     "output_type": "execute_result"
    }
   ],
   "source": [
    "dataframe < 0"
   ]
  },
  {
   "cell_type": "code",
   "execution_count": 40,
   "id": "44565352",
   "metadata": {},
   "outputs": [],
   "source": [
    "uyanlar = dataframe < 0"
   ]
  },
  {
   "cell_type": "code",
   "execution_count": 41,
   "id": "18e4e77f",
   "metadata": {},
   "outputs": [
    {
     "data": {
      "text/html": [
       "<div>\n",
       "<style scoped>\n",
       "    .dataframe tbody tr th:only-of-type {\n",
       "        vertical-align: middle;\n",
       "    }\n",
       "\n",
       "    .dataframe tbody tr th {\n",
       "        vertical-align: top;\n",
       "    }\n",
       "\n",
       "    .dataframe thead th {\n",
       "        text-align: right;\n",
       "    }\n",
       "</style>\n",
       "<table border=\"1\" class=\"dataframe\">\n",
       "  <thead>\n",
       "    <tr style=\"text-align: right;\">\n",
       "      <th></th>\n",
       "      <th>kolon1</th>\n",
       "      <th>kolon2</th>\n",
       "      <th>kolon3</th>\n",
       "    </tr>\n",
       "  </thead>\n",
       "  <tbody>\n",
       "    <tr>\n",
       "      <th>A</th>\n",
       "      <td>NaN</td>\n",
       "      <td>-1.373339</td>\n",
       "      <td>-0.120889</td>\n",
       "    </tr>\n",
       "    <tr>\n",
       "      <th>B</th>\n",
       "      <td>-1.004477</td>\n",
       "      <td>-0.447792</td>\n",
       "      <td>-1.430073</td>\n",
       "    </tr>\n",
       "    <tr>\n",
       "      <th>C</th>\n",
       "      <td>-0.872891</td>\n",
       "      <td>NaN</td>\n",
       "      <td>-1.913600</td>\n",
       "    </tr>\n",
       "    <tr>\n",
       "      <th>D</th>\n",
       "      <td>NaN</td>\n",
       "      <td>-0.206129</td>\n",
       "      <td>NaN</td>\n",
       "    </tr>\n",
       "  </tbody>\n",
       "</table>\n",
       "</div>"
      ],
      "text/plain": [
       "     kolon1    kolon2    kolon3\n",
       "A       NaN -1.373339 -0.120889\n",
       "B -1.004477 -0.447792 -1.430073\n",
       "C -0.872891       NaN -1.913600\n",
       "D       NaN -0.206129       NaN"
      ]
     },
     "execution_count": 41,
     "metadata": {},
     "output_type": "execute_result"
    }
   ],
   "source": [
    "dataframe[uyanlar]"
   ]
  },
  {
   "cell_type": "code",
   "execution_count": 42,
   "id": "6bb63c4b",
   "metadata": {},
   "outputs": [
    {
     "data": {
      "text/html": [
       "<div>\n",
       "<style scoped>\n",
       "    .dataframe tbody tr th:only-of-type {\n",
       "        vertical-align: middle;\n",
       "    }\n",
       "\n",
       "    .dataframe tbody tr th {\n",
       "        vertical-align: top;\n",
       "    }\n",
       "\n",
       "    .dataframe thead th {\n",
       "        text-align: right;\n",
       "    }\n",
       "</style>\n",
       "<table border=\"1\" class=\"dataframe\">\n",
       "  <thead>\n",
       "    <tr style=\"text-align: right;\">\n",
       "      <th></th>\n",
       "      <th>kolon1</th>\n",
       "      <th>kolon2</th>\n",
       "      <th>kolon3</th>\n",
       "    </tr>\n",
       "  </thead>\n",
       "  <tbody>\n",
       "    <tr>\n",
       "      <th>A</th>\n",
       "      <td>2.343784</td>\n",
       "      <td>NaN</td>\n",
       "      <td>NaN</td>\n",
       "    </tr>\n",
       "    <tr>\n",
       "      <th>B</th>\n",
       "      <td>NaN</td>\n",
       "      <td>NaN</td>\n",
       "      <td>NaN</td>\n",
       "    </tr>\n",
       "    <tr>\n",
       "      <th>C</th>\n",
       "      <td>NaN</td>\n",
       "      <td>NaN</td>\n",
       "      <td>NaN</td>\n",
       "    </tr>\n",
       "    <tr>\n",
       "      <th>D</th>\n",
       "      <td>NaN</td>\n",
       "      <td>NaN</td>\n",
       "      <td>NaN</td>\n",
       "    </tr>\n",
       "  </tbody>\n",
       "</table>\n",
       "</div>"
      ],
      "text/plain": [
       "     kolon1  kolon2  kolon3\n",
       "A  2.343784     NaN     NaN\n",
       "B       NaN     NaN     NaN\n",
       "C       NaN     NaN     NaN\n",
       "D       NaN     NaN     NaN"
      ]
     },
     "execution_count": 42,
     "metadata": {},
     "output_type": "execute_result"
    }
   ],
   "source": [
    "dataframe[dataframe > 1]"
   ]
  },
  {
   "cell_type": "code",
   "execution_count": 43,
   "id": "3f661b48",
   "metadata": {},
   "outputs": [
    {
     "data": {
      "text/plain": [
       "A     True\n",
       "B    False\n",
       "C    False\n",
       "D     True\n",
       "Name: kolon1, dtype: bool"
      ]
     },
     "execution_count": 43,
     "metadata": {},
     "output_type": "execute_result"
    }
   ],
   "source": [
    "dataframe[\"kolon1\"] > 0"
   ]
  },
  {
   "cell_type": "code",
   "execution_count": 44,
   "id": "49ecea37",
   "metadata": {},
   "outputs": [
    {
     "data": {
      "text/html": [
       "<div>\n",
       "<style scoped>\n",
       "    .dataframe tbody tr th:only-of-type {\n",
       "        vertical-align: middle;\n",
       "    }\n",
       "\n",
       "    .dataframe tbody tr th {\n",
       "        vertical-align: top;\n",
       "    }\n",
       "\n",
       "    .dataframe thead th {\n",
       "        text-align: right;\n",
       "    }\n",
       "</style>\n",
       "<table border=\"1\" class=\"dataframe\">\n",
       "  <thead>\n",
       "    <tr style=\"text-align: right;\">\n",
       "      <th></th>\n",
       "      <th>kolon1</th>\n",
       "      <th>kolon2</th>\n",
       "      <th>kolon3</th>\n",
       "    </tr>\n",
       "  </thead>\n",
       "  <tbody>\n",
       "    <tr>\n",
       "      <th>A</th>\n",
       "      <td>2.343784</td>\n",
       "      <td>-1.373339</td>\n",
       "      <td>-0.120889</td>\n",
       "    </tr>\n",
       "    <tr>\n",
       "      <th>D</th>\n",
       "      <td>0.595521</td>\n",
       "      <td>-0.206129</td>\n",
       "      <td>0.050267</td>\n",
       "    </tr>\n",
       "  </tbody>\n",
       "</table>\n",
       "</div>"
      ],
      "text/plain": [
       "     kolon1    kolon2    kolon3\n",
       "A  2.343784 -1.373339 -0.120889\n",
       "D  0.595521 -0.206129  0.050267"
      ]
     },
     "execution_count": 44,
     "metadata": {},
     "output_type": "execute_result"
    }
   ],
   "source": [
    "dataframe[dataframe[\"kolon1\"] > 0]"
   ]
  },
  {
   "cell_type": "code",
   "execution_count": 45,
   "id": "19db2e37",
   "metadata": {},
   "outputs": [
    {
     "data": {
      "text/html": [
       "<div>\n",
       "<style scoped>\n",
       "    .dataframe tbody tr th:only-of-type {\n",
       "        vertical-align: middle;\n",
       "    }\n",
       "\n",
       "    .dataframe tbody tr th {\n",
       "        vertical-align: top;\n",
       "    }\n",
       "\n",
       "    .dataframe thead th {\n",
       "        text-align: right;\n",
       "    }\n",
       "</style>\n",
       "<table border=\"1\" class=\"dataframe\">\n",
       "  <thead>\n",
       "    <tr style=\"text-align: right;\">\n",
       "      <th></th>\n",
       "      <th>kolon1</th>\n",
       "      <th>kolon2</th>\n",
       "      <th>kolon3</th>\n",
       "    </tr>\n",
       "  </thead>\n",
       "  <tbody>\n",
       "  </tbody>\n",
       "</table>\n",
       "</div>"
      ],
      "text/plain": [
       "Empty DataFrame\n",
       "Columns: [kolon1, kolon2, kolon3]\n",
       "Index: []"
      ]
     },
     "execution_count": 45,
     "metadata": {},
     "output_type": "execute_result"
    }
   ],
   "source": [
    "dataframe[(dataframe[\"kolon1\"]>0) & (dataframe[\"kolon2\"] > 0)]"
   ]
  },
  {
   "cell_type": "code",
   "execution_count": 46,
   "id": "3ccf9f45",
   "metadata": {},
   "outputs": [
    {
     "data": {
      "text/html": [
       "<div>\n",
       "<style scoped>\n",
       "    .dataframe tbody tr th:only-of-type {\n",
       "        vertical-align: middle;\n",
       "    }\n",
       "\n",
       "    .dataframe tbody tr th {\n",
       "        vertical-align: top;\n",
       "    }\n",
       "\n",
       "    .dataframe thead th {\n",
       "        text-align: right;\n",
       "    }\n",
       "</style>\n",
       "<table border=\"1\" class=\"dataframe\">\n",
       "  <thead>\n",
       "    <tr style=\"text-align: right;\">\n",
       "      <th></th>\n",
       "      <th>kolon1</th>\n",
       "      <th>kolon2</th>\n",
       "      <th>kolon3</th>\n",
       "    </tr>\n",
       "  </thead>\n",
       "  <tbody>\n",
       "    <tr>\n",
       "      <th>A</th>\n",
       "      <td>2.343784</td>\n",
       "      <td>-1.373339</td>\n",
       "      <td>-0.120889</td>\n",
       "    </tr>\n",
       "    <tr>\n",
       "      <th>C</th>\n",
       "      <td>-0.872891</td>\n",
       "      <td>0.616486</td>\n",
       "      <td>-1.913600</td>\n",
       "    </tr>\n",
       "    <tr>\n",
       "      <th>D</th>\n",
       "      <td>0.595521</td>\n",
       "      <td>-0.206129</td>\n",
       "      <td>0.050267</td>\n",
       "    </tr>\n",
       "  </tbody>\n",
       "</table>\n",
       "</div>"
      ],
      "text/plain": [
       "     kolon1    kolon2    kolon3\n",
       "A  2.343784 -1.373339 -0.120889\n",
       "C -0.872891  0.616486 -1.913600\n",
       "D  0.595521 -0.206129  0.050267"
      ]
     },
     "execution_count": 46,
     "metadata": {},
     "output_type": "execute_result"
    }
   ],
   "source": [
    "dataframe[(dataframe[\"kolon1\"]>0) | (dataframe[\"kolon2\"] > 0)]"
   ]
  },
  {
   "cell_type": "code",
   "execution_count": 47,
   "id": "9f3139e1",
   "metadata": {},
   "outputs": [],
   "source": [
    "dataframe[\"kolon4\"] = pandas.Series(numpy.random.randn(4),[\"A\",\"B\",\"C\",\"D\"])"
   ]
  },
  {
   "cell_type": "code",
   "execution_count": 48,
   "id": "1330ca3c",
   "metadata": {},
   "outputs": [
    {
     "data": {
      "text/html": [
       "<div>\n",
       "<style scoped>\n",
       "    .dataframe tbody tr th:only-of-type {\n",
       "        vertical-align: middle;\n",
       "    }\n",
       "\n",
       "    .dataframe tbody tr th {\n",
       "        vertical-align: top;\n",
       "    }\n",
       "\n",
       "    .dataframe thead th {\n",
       "        text-align: right;\n",
       "    }\n",
       "</style>\n",
       "<table border=\"1\" class=\"dataframe\">\n",
       "  <thead>\n",
       "    <tr style=\"text-align: right;\">\n",
       "      <th></th>\n",
       "      <th>kolon1</th>\n",
       "      <th>kolon2</th>\n",
       "      <th>kolon3</th>\n",
       "      <th>kolon4</th>\n",
       "    </tr>\n",
       "  </thead>\n",
       "  <tbody>\n",
       "    <tr>\n",
       "      <th>A</th>\n",
       "      <td>2.343784</td>\n",
       "      <td>-1.373339</td>\n",
       "      <td>-0.120889</td>\n",
       "      <td>-1.218013</td>\n",
       "    </tr>\n",
       "    <tr>\n",
       "      <th>B</th>\n",
       "      <td>-1.004477</td>\n",
       "      <td>-0.447792</td>\n",
       "      <td>-1.430073</td>\n",
       "      <td>1.760147</td>\n",
       "    </tr>\n",
       "    <tr>\n",
       "      <th>C</th>\n",
       "      <td>-0.872891</td>\n",
       "      <td>0.616486</td>\n",
       "      <td>-1.913600</td>\n",
       "      <td>-0.223125</td>\n",
       "    </tr>\n",
       "    <tr>\n",
       "      <th>D</th>\n",
       "      <td>0.595521</td>\n",
       "      <td>-0.206129</td>\n",
       "      <td>0.050267</td>\n",
       "      <td>-0.614537</td>\n",
       "    </tr>\n",
       "  </tbody>\n",
       "</table>\n",
       "</div>"
      ],
      "text/plain": [
       "     kolon1    kolon2    kolon3    kolon4\n",
       "A  2.343784 -1.373339 -0.120889 -1.218013\n",
       "B -1.004477 -0.447792 -1.430073  1.760147\n",
       "C -0.872891  0.616486 -1.913600 -0.223125\n",
       "D  0.595521 -0.206129  0.050267 -0.614537"
      ]
     },
     "execution_count": 48,
     "metadata": {},
     "output_type": "execute_result"
    }
   ],
   "source": [
    "dataframe"
   ]
  },
  {
   "cell_type": "code",
   "execution_count": 49,
   "id": "db49328a",
   "metadata": {},
   "outputs": [],
   "source": [
    "dataframe[\"kolon5\"] = numpy.random.randn(4)"
   ]
  },
  {
   "cell_type": "code",
   "execution_count": 50,
   "id": "42438ae3",
   "metadata": {},
   "outputs": [
    {
     "data": {
      "text/html": [
       "<div>\n",
       "<style scoped>\n",
       "    .dataframe tbody tr th:only-of-type {\n",
       "        vertical-align: middle;\n",
       "    }\n",
       "\n",
       "    .dataframe tbody tr th {\n",
       "        vertical-align: top;\n",
       "    }\n",
       "\n",
       "    .dataframe thead th {\n",
       "        text-align: right;\n",
       "    }\n",
       "</style>\n",
       "<table border=\"1\" class=\"dataframe\">\n",
       "  <thead>\n",
       "    <tr style=\"text-align: right;\">\n",
       "      <th></th>\n",
       "      <th>kolon1</th>\n",
       "      <th>kolon2</th>\n",
       "      <th>kolon3</th>\n",
       "      <th>kolon4</th>\n",
       "      <th>kolon5</th>\n",
       "    </tr>\n",
       "  </thead>\n",
       "  <tbody>\n",
       "    <tr>\n",
       "      <th>A</th>\n",
       "      <td>2.343784</td>\n",
       "      <td>-1.373339</td>\n",
       "      <td>-0.120889</td>\n",
       "      <td>-1.218013</td>\n",
       "      <td>-0.189208</td>\n",
       "    </tr>\n",
       "    <tr>\n",
       "      <th>B</th>\n",
       "      <td>-1.004477</td>\n",
       "      <td>-0.447792</td>\n",
       "      <td>-1.430073</td>\n",
       "      <td>1.760147</td>\n",
       "      <td>0.381398</td>\n",
       "    </tr>\n",
       "    <tr>\n",
       "      <th>C</th>\n",
       "      <td>-0.872891</td>\n",
       "      <td>0.616486</td>\n",
       "      <td>-1.913600</td>\n",
       "      <td>-0.223125</td>\n",
       "      <td>0.705928</td>\n",
       "    </tr>\n",
       "    <tr>\n",
       "      <th>D</th>\n",
       "      <td>0.595521</td>\n",
       "      <td>-0.206129</td>\n",
       "      <td>0.050267</td>\n",
       "      <td>-0.614537</td>\n",
       "      <td>-0.889759</td>\n",
       "    </tr>\n",
       "  </tbody>\n",
       "</table>\n",
       "</div>"
      ],
      "text/plain": [
       "     kolon1    kolon2    kolon3    kolon4    kolon5\n",
       "A  2.343784 -1.373339 -0.120889 -1.218013 -0.189208\n",
       "B -1.004477 -0.447792 -1.430073  1.760147  0.381398\n",
       "C -0.872891  0.616486 -1.913600 -0.223125  0.705928\n",
       "D  0.595521 -0.206129  0.050267 -0.614537 -0.889759"
      ]
     },
     "execution_count": 50,
     "metadata": {},
     "output_type": "execute_result"
    }
   ],
   "source": [
    "dataframe"
   ]
  },
  {
   "cell_type": "code",
   "execution_count": 51,
   "id": "f7097d82",
   "metadata": {},
   "outputs": [],
   "source": [
    "dataframe[\"kolon6\"] = [\"a\",\"b\",\"c\",\"d\"]"
   ]
  },
  {
   "cell_type": "code",
   "execution_count": 52,
   "id": "a6b67242",
   "metadata": {},
   "outputs": [
    {
     "data": {
      "text/html": [
       "<div>\n",
       "<style scoped>\n",
       "    .dataframe tbody tr th:only-of-type {\n",
       "        vertical-align: middle;\n",
       "    }\n",
       "\n",
       "    .dataframe tbody tr th {\n",
       "        vertical-align: top;\n",
       "    }\n",
       "\n",
       "    .dataframe thead th {\n",
       "        text-align: right;\n",
       "    }\n",
       "</style>\n",
       "<table border=\"1\" class=\"dataframe\">\n",
       "  <thead>\n",
       "    <tr style=\"text-align: right;\">\n",
       "      <th></th>\n",
       "      <th>kolon1</th>\n",
       "      <th>kolon2</th>\n",
       "      <th>kolon3</th>\n",
       "      <th>kolon4</th>\n",
       "      <th>kolon5</th>\n",
       "      <th>kolon6</th>\n",
       "    </tr>\n",
       "  </thead>\n",
       "  <tbody>\n",
       "    <tr>\n",
       "      <th>A</th>\n",
       "      <td>2.343784</td>\n",
       "      <td>-1.373339</td>\n",
       "      <td>-0.120889</td>\n",
       "      <td>-1.218013</td>\n",
       "      <td>-0.189208</td>\n",
       "      <td>a</td>\n",
       "    </tr>\n",
       "    <tr>\n",
       "      <th>B</th>\n",
       "      <td>-1.004477</td>\n",
       "      <td>-0.447792</td>\n",
       "      <td>-1.430073</td>\n",
       "      <td>1.760147</td>\n",
       "      <td>0.381398</td>\n",
       "      <td>b</td>\n",
       "    </tr>\n",
       "    <tr>\n",
       "      <th>C</th>\n",
       "      <td>-0.872891</td>\n",
       "      <td>0.616486</td>\n",
       "      <td>-1.913600</td>\n",
       "      <td>-0.223125</td>\n",
       "      <td>0.705928</td>\n",
       "      <td>c</td>\n",
       "    </tr>\n",
       "    <tr>\n",
       "      <th>D</th>\n",
       "      <td>0.595521</td>\n",
       "      <td>-0.206129</td>\n",
       "      <td>0.050267</td>\n",
       "      <td>-0.614537</td>\n",
       "      <td>-0.889759</td>\n",
       "      <td>d</td>\n",
       "    </tr>\n",
       "  </tbody>\n",
       "</table>\n",
       "</div>"
      ],
      "text/plain": [
       "     kolon1    kolon2    kolon3    kolon4    kolon5 kolon6\n",
       "A  2.343784 -1.373339 -0.120889 -1.218013 -0.189208      a\n",
       "B -1.004477 -0.447792 -1.430073  1.760147  0.381398      b\n",
       "C -0.872891  0.616486 -1.913600 -0.223125  0.705928      c\n",
       "D  0.595521 -0.206129  0.050267 -0.614537 -0.889759      d"
      ]
     },
     "execution_count": 52,
     "metadata": {},
     "output_type": "execute_result"
    }
   ],
   "source": [
    "dataframe"
   ]
  },
  {
   "cell_type": "code",
   "execution_count": 53,
   "id": "c51ede70",
   "metadata": {},
   "outputs": [
    {
     "data": {
      "text/html": [
       "<div>\n",
       "<style scoped>\n",
       "    .dataframe tbody tr th:only-of-type {\n",
       "        vertical-align: middle;\n",
       "    }\n",
       "\n",
       "    .dataframe tbody tr th {\n",
       "        vertical-align: top;\n",
       "    }\n",
       "\n",
       "    .dataframe thead th {\n",
       "        text-align: right;\n",
       "    }\n",
       "</style>\n",
       "<table border=\"1\" class=\"dataframe\">\n",
       "  <thead>\n",
       "    <tr style=\"text-align: right;\">\n",
       "      <th></th>\n",
       "      <th>kolon1</th>\n",
       "      <th>kolon2</th>\n",
       "      <th>kolon3</th>\n",
       "      <th>kolon4</th>\n",
       "      <th>kolon5</th>\n",
       "    </tr>\n",
       "    <tr>\n",
       "      <th>kolon6</th>\n",
       "      <th></th>\n",
       "      <th></th>\n",
       "      <th></th>\n",
       "      <th></th>\n",
       "      <th></th>\n",
       "    </tr>\n",
       "  </thead>\n",
       "  <tbody>\n",
       "    <tr>\n",
       "      <th>a</th>\n",
       "      <td>2.343784</td>\n",
       "      <td>-1.373339</td>\n",
       "      <td>-0.120889</td>\n",
       "      <td>-1.218013</td>\n",
       "      <td>-0.189208</td>\n",
       "    </tr>\n",
       "    <tr>\n",
       "      <th>b</th>\n",
       "      <td>-1.004477</td>\n",
       "      <td>-0.447792</td>\n",
       "      <td>-1.430073</td>\n",
       "      <td>1.760147</td>\n",
       "      <td>0.381398</td>\n",
       "    </tr>\n",
       "    <tr>\n",
       "      <th>c</th>\n",
       "      <td>-0.872891</td>\n",
       "      <td>0.616486</td>\n",
       "      <td>-1.913600</td>\n",
       "      <td>-0.223125</td>\n",
       "      <td>0.705928</td>\n",
       "    </tr>\n",
       "    <tr>\n",
       "      <th>d</th>\n",
       "      <td>0.595521</td>\n",
       "      <td>-0.206129</td>\n",
       "      <td>0.050267</td>\n",
       "      <td>-0.614537</td>\n",
       "      <td>-0.889759</td>\n",
       "    </tr>\n",
       "  </tbody>\n",
       "</table>\n",
       "</div>"
      ],
      "text/plain": [
       "          kolon1    kolon2    kolon3    kolon4    kolon5\n",
       "kolon6                                                  \n",
       "a       2.343784 -1.373339 -0.120889 -1.218013 -0.189208\n",
       "b      -1.004477 -0.447792 -1.430073  1.760147  0.381398\n",
       "c      -0.872891  0.616486 -1.913600 -0.223125  0.705928\n",
       "d       0.595521 -0.206129  0.050267 -0.614537 -0.889759"
      ]
     },
     "execution_count": 53,
     "metadata": {},
     "output_type": "execute_result"
    }
   ],
   "source": [
    "dataframe.set_index(\"kolon6\")       #bu kalıcı değiştirmez"
   ]
  },
  {
   "cell_type": "code",
   "execution_count": 54,
   "id": "38fb93c1",
   "metadata": {},
   "outputs": [],
   "source": [
    "dataframe.set_index(\"kolon6\",inplace = True)     #bu şekilde kalıcı olarak değişir"
   ]
  },
  {
   "cell_type": "code",
   "execution_count": 55,
   "id": "3d799f14",
   "metadata": {},
   "outputs": [
    {
     "data": {
      "text/html": [
       "<div>\n",
       "<style scoped>\n",
       "    .dataframe tbody tr th:only-of-type {\n",
       "        vertical-align: middle;\n",
       "    }\n",
       "\n",
       "    .dataframe tbody tr th {\n",
       "        vertical-align: top;\n",
       "    }\n",
       "\n",
       "    .dataframe thead th {\n",
       "        text-align: right;\n",
       "    }\n",
       "</style>\n",
       "<table border=\"1\" class=\"dataframe\">\n",
       "  <thead>\n",
       "    <tr style=\"text-align: right;\">\n",
       "      <th></th>\n",
       "      <th>kolon1</th>\n",
       "      <th>kolon2</th>\n",
       "      <th>kolon3</th>\n",
       "      <th>kolon4</th>\n",
       "      <th>kolon5</th>\n",
       "    </tr>\n",
       "    <tr>\n",
       "      <th>kolon6</th>\n",
       "      <th></th>\n",
       "      <th></th>\n",
       "      <th></th>\n",
       "      <th></th>\n",
       "      <th></th>\n",
       "    </tr>\n",
       "  </thead>\n",
       "  <tbody>\n",
       "    <tr>\n",
       "      <th>a</th>\n",
       "      <td>2.343784</td>\n",
       "      <td>-1.373339</td>\n",
       "      <td>-0.120889</td>\n",
       "      <td>-1.218013</td>\n",
       "      <td>-0.189208</td>\n",
       "    </tr>\n",
       "    <tr>\n",
       "      <th>b</th>\n",
       "      <td>-1.004477</td>\n",
       "      <td>-0.447792</td>\n",
       "      <td>-1.430073</td>\n",
       "      <td>1.760147</td>\n",
       "      <td>0.381398</td>\n",
       "    </tr>\n",
       "    <tr>\n",
       "      <th>c</th>\n",
       "      <td>-0.872891</td>\n",
       "      <td>0.616486</td>\n",
       "      <td>-1.913600</td>\n",
       "      <td>-0.223125</td>\n",
       "      <td>0.705928</td>\n",
       "    </tr>\n",
       "    <tr>\n",
       "      <th>d</th>\n",
       "      <td>0.595521</td>\n",
       "      <td>-0.206129</td>\n",
       "      <td>0.050267</td>\n",
       "      <td>-0.614537</td>\n",
       "      <td>-0.889759</td>\n",
       "    </tr>\n",
       "  </tbody>\n",
       "</table>\n",
       "</div>"
      ],
      "text/plain": [
       "          kolon1    kolon2    kolon3    kolon4    kolon5\n",
       "kolon6                                                  \n",
       "a       2.343784 -1.373339 -0.120889 -1.218013 -0.189208\n",
       "b      -1.004477 -0.447792 -1.430073  1.760147  0.381398\n",
       "c      -0.872891  0.616486 -1.913600 -0.223125  0.705928\n",
       "d       0.595521 -0.206129  0.050267 -0.614537 -0.889759"
      ]
     },
     "execution_count": 55,
     "metadata": {},
     "output_type": "execute_result"
    }
   ],
   "source": [
    "dataframe"
   ]
  },
  {
   "cell_type": "code",
   "execution_count": 56,
   "id": "68d6502b",
   "metadata": {},
   "outputs": [
    {
     "data": {
      "text/plain": [
       "FrozenList(['kolon6'])"
      ]
     },
     "execution_count": 56,
     "metadata": {},
     "output_type": "execute_result"
    }
   ],
   "source": [
    "dataframe.index.names"
   ]
  },
  {
   "cell_type": "code",
   "execution_count": 57,
   "id": "03de769d",
   "metadata": {},
   "outputs": [],
   "source": [
    "gruplar = [\"grup1\",\"grup1\",\"grup1\",\"grup2\",\"grup2\",\"grup2\",\"grup3\",\"grup3\",\"grup3\"]\n",
    "indexler = [\"index1\",\"index2\",\"index3\",\"index1\",\"index2\",\"index3\",\"index1\",\"index2\",\"index3\"]"
   ]
  },
  {
   "cell_type": "code",
   "execution_count": 58,
   "id": "5649b924",
   "metadata": {},
   "outputs": [
    {
     "data": {
      "text/plain": [
       "[('grup1', 'index1'),\n",
       " ('grup1', 'index2'),\n",
       " ('grup1', 'index3'),\n",
       " ('grup2', 'index1'),\n",
       " ('grup2', 'index2'),\n",
       " ('grup2', 'index3'),\n",
       " ('grup3', 'index1'),\n",
       " ('grup3', 'index2'),\n",
       " ('grup3', 'index3')]"
      ]
     },
     "execution_count": 58,
     "metadata": {},
     "output_type": "execute_result"
    }
   ],
   "source": [
    "list(zip(gruplar,indexler))"
   ]
  },
  {
   "cell_type": "code",
   "execution_count": 59,
   "id": "3d3c16bd",
   "metadata": {},
   "outputs": [],
   "source": [
    "birlestirme = list(zip(gruplar,indexler))"
   ]
  },
  {
   "cell_type": "code",
   "execution_count": 60,
   "id": "8b21737a",
   "metadata": {},
   "outputs": [],
   "source": [
    "birlestirme = pandas.MultiIndex.from_tuples(birlestirme)"
   ]
  },
  {
   "cell_type": "code",
   "execution_count": 61,
   "id": "7ad39aa3",
   "metadata": {},
   "outputs": [
    {
     "data": {
      "text/plain": [
       "MultiIndex([('grup1', 'index1'),\n",
       "            ('grup1', 'index2'),\n",
       "            ('grup1', 'index3'),\n",
       "            ('grup2', 'index1'),\n",
       "            ('grup2', 'index2'),\n",
       "            ('grup2', 'index3'),\n",
       "            ('grup3', 'index1'),\n",
       "            ('grup3', 'index2'),\n",
       "            ('grup3', 'index3')],\n",
       "           )"
      ]
     },
     "execution_count": 61,
     "metadata": {},
     "output_type": "execute_result"
    }
   ],
   "source": [
    "birlestirme"
   ]
  },
  {
   "cell_type": "code",
   "execution_count": 62,
   "id": "08eccce6",
   "metadata": {},
   "outputs": [],
   "source": [
    "dataframe = pandas.DataFrame(numpy.random.randn(9,3),birlestirme,columns = [\"kolon1\",\"kolon2\",\"kolon3\"])"
   ]
  },
  {
   "cell_type": "code",
   "execution_count": 63,
   "id": "8fb21cf5",
   "metadata": {},
   "outputs": [
    {
     "data": {
      "text/html": [
       "<div>\n",
       "<style scoped>\n",
       "    .dataframe tbody tr th:only-of-type {\n",
       "        vertical-align: middle;\n",
       "    }\n",
       "\n",
       "    .dataframe tbody tr th {\n",
       "        vertical-align: top;\n",
       "    }\n",
       "\n",
       "    .dataframe thead th {\n",
       "        text-align: right;\n",
       "    }\n",
       "</style>\n",
       "<table border=\"1\" class=\"dataframe\">\n",
       "  <thead>\n",
       "    <tr style=\"text-align: right;\">\n",
       "      <th></th>\n",
       "      <th></th>\n",
       "      <th>kolon1</th>\n",
       "      <th>kolon2</th>\n",
       "      <th>kolon3</th>\n",
       "    </tr>\n",
       "  </thead>\n",
       "  <tbody>\n",
       "    <tr>\n",
       "      <th rowspan=\"3\" valign=\"top\">grup1</th>\n",
       "      <th>index1</th>\n",
       "      <td>-1.721983</td>\n",
       "      <td>-0.687141</td>\n",
       "      <td>1.105149</td>\n",
       "    </tr>\n",
       "    <tr>\n",
       "      <th>index2</th>\n",
       "      <td>0.705745</td>\n",
       "      <td>-1.712028</td>\n",
       "      <td>0.790002</td>\n",
       "    </tr>\n",
       "    <tr>\n",
       "      <th>index3</th>\n",
       "      <td>-0.481775</td>\n",
       "      <td>-0.016269</td>\n",
       "      <td>1.233630</td>\n",
       "    </tr>\n",
       "    <tr>\n",
       "      <th rowspan=\"3\" valign=\"top\">grup2</th>\n",
       "      <th>index1</th>\n",
       "      <td>-0.528608</td>\n",
       "      <td>-1.189648</td>\n",
       "      <td>0.105786</td>\n",
       "    </tr>\n",
       "    <tr>\n",
       "      <th>index2</th>\n",
       "      <td>0.616535</td>\n",
       "      <td>0.695706</td>\n",
       "      <td>1.371412</td>\n",
       "    </tr>\n",
       "    <tr>\n",
       "      <th>index3</th>\n",
       "      <td>-0.814304</td>\n",
       "      <td>-0.060133</td>\n",
       "      <td>-0.304634</td>\n",
       "    </tr>\n",
       "    <tr>\n",
       "      <th rowspan=\"3\" valign=\"top\">grup3</th>\n",
       "      <th>index1</th>\n",
       "      <td>0.745895</td>\n",
       "      <td>1.709092</td>\n",
       "      <td>0.300426</td>\n",
       "    </tr>\n",
       "    <tr>\n",
       "      <th>index2</th>\n",
       "      <td>-0.030110</td>\n",
       "      <td>-1.217938</td>\n",
       "      <td>1.308305</td>\n",
       "    </tr>\n",
       "    <tr>\n",
       "      <th>index3</th>\n",
       "      <td>2.014133</td>\n",
       "      <td>-0.911344</td>\n",
       "      <td>0.164337</td>\n",
       "    </tr>\n",
       "  </tbody>\n",
       "</table>\n",
       "</div>"
      ],
      "text/plain": [
       "                kolon1    kolon2    kolon3\n",
       "grup1 index1 -1.721983 -0.687141  1.105149\n",
       "      index2  0.705745 -1.712028  0.790002\n",
       "      index3 -0.481775 -0.016269  1.233630\n",
       "grup2 index1 -0.528608 -1.189648  0.105786\n",
       "      index2  0.616535  0.695706  1.371412\n",
       "      index3 -0.814304 -0.060133 -0.304634\n",
       "grup3 index1  0.745895  1.709092  0.300426\n",
       "      index2 -0.030110 -1.217938  1.308305\n",
       "      index3  2.014133 -0.911344  0.164337"
      ]
     },
     "execution_count": 63,
     "metadata": {},
     "output_type": "execute_result"
    }
   ],
   "source": [
    "dataframe"
   ]
  },
  {
   "cell_type": "code",
   "execution_count": 64,
   "id": "a693cefe",
   "metadata": {},
   "outputs": [
    {
     "data": {
      "text/plain": [
       "grup1  index1   -1.721983\n",
       "       index2    0.705745\n",
       "       index3   -0.481775\n",
       "grup2  index1   -0.528608\n",
       "       index2    0.616535\n",
       "       index3   -0.814304\n",
       "grup3  index1    0.745895\n",
       "       index2   -0.030110\n",
       "       index3    2.014133\n",
       "Name: kolon1, dtype: float64"
      ]
     },
     "execution_count": 64,
     "metadata": {},
     "output_type": "execute_result"
    }
   ],
   "source": [
    "dataframe[\"kolon1\"]"
   ]
  },
  {
   "cell_type": "code",
   "execution_count": 65,
   "id": "4b1f1c5c",
   "metadata": {},
   "outputs": [
    {
     "data": {
      "text/html": [
       "<div>\n",
       "<style scoped>\n",
       "    .dataframe tbody tr th:only-of-type {\n",
       "        vertical-align: middle;\n",
       "    }\n",
       "\n",
       "    .dataframe tbody tr th {\n",
       "        vertical-align: top;\n",
       "    }\n",
       "\n",
       "    .dataframe thead th {\n",
       "        text-align: right;\n",
       "    }\n",
       "</style>\n",
       "<table border=\"1\" class=\"dataframe\">\n",
       "  <thead>\n",
       "    <tr style=\"text-align: right;\">\n",
       "      <th></th>\n",
       "      <th>kolon1</th>\n",
       "      <th>kolon2</th>\n",
       "      <th>kolon3</th>\n",
       "    </tr>\n",
       "  </thead>\n",
       "  <tbody>\n",
       "    <tr>\n",
       "      <th>index1</th>\n",
       "      <td>-1.721983</td>\n",
       "      <td>-0.687141</td>\n",
       "      <td>1.105149</td>\n",
       "    </tr>\n",
       "    <tr>\n",
       "      <th>index2</th>\n",
       "      <td>0.705745</td>\n",
       "      <td>-1.712028</td>\n",
       "      <td>0.790002</td>\n",
       "    </tr>\n",
       "    <tr>\n",
       "      <th>index3</th>\n",
       "      <td>-0.481775</td>\n",
       "      <td>-0.016269</td>\n",
       "      <td>1.233630</td>\n",
       "    </tr>\n",
       "  </tbody>\n",
       "</table>\n",
       "</div>"
      ],
      "text/plain": [
       "          kolon1    kolon2    kolon3\n",
       "index1 -1.721983 -0.687141  1.105149\n",
       "index2  0.705745 -1.712028  0.790002\n",
       "index3 -0.481775 -0.016269  1.233630"
      ]
     },
     "execution_count": 65,
     "metadata": {},
     "output_type": "execute_result"
    }
   ],
   "source": [
    "dataframe.loc[\"grup1\"]"
   ]
  },
  {
   "cell_type": "code",
   "execution_count": 66,
   "id": "e8a4186d",
   "metadata": {},
   "outputs": [
    {
     "data": {
      "text/html": [
       "<div>\n",
       "<style scoped>\n",
       "    .dataframe tbody tr th:only-of-type {\n",
       "        vertical-align: middle;\n",
       "    }\n",
       "\n",
       "    .dataframe tbody tr th {\n",
       "        vertical-align: top;\n",
       "    }\n",
       "\n",
       "    .dataframe thead th {\n",
       "        text-align: right;\n",
       "    }\n",
       "</style>\n",
       "<table border=\"1\" class=\"dataframe\">\n",
       "  <thead>\n",
       "    <tr style=\"text-align: right;\">\n",
       "      <th></th>\n",
       "      <th></th>\n",
       "      <th>kolon1</th>\n",
       "      <th>kolon2</th>\n",
       "      <th>kolon3</th>\n",
       "    </tr>\n",
       "  </thead>\n",
       "  <tbody>\n",
       "    <tr>\n",
       "      <th rowspan=\"3\" valign=\"top\">grup2</th>\n",
       "      <th>index1</th>\n",
       "      <td>-0.528608</td>\n",
       "      <td>-1.189648</td>\n",
       "      <td>0.105786</td>\n",
       "    </tr>\n",
       "    <tr>\n",
       "      <th>index2</th>\n",
       "      <td>0.616535</td>\n",
       "      <td>0.695706</td>\n",
       "      <td>1.371412</td>\n",
       "    </tr>\n",
       "    <tr>\n",
       "      <th>index3</th>\n",
       "      <td>-0.814304</td>\n",
       "      <td>-0.060133</td>\n",
       "      <td>-0.304634</td>\n",
       "    </tr>\n",
       "    <tr>\n",
       "      <th rowspan=\"3\" valign=\"top\">grup3</th>\n",
       "      <th>index1</th>\n",
       "      <td>0.745895</td>\n",
       "      <td>1.709092</td>\n",
       "      <td>0.300426</td>\n",
       "    </tr>\n",
       "    <tr>\n",
       "      <th>index2</th>\n",
       "      <td>-0.030110</td>\n",
       "      <td>-1.217938</td>\n",
       "      <td>1.308305</td>\n",
       "    </tr>\n",
       "    <tr>\n",
       "      <th>index3</th>\n",
       "      <td>2.014133</td>\n",
       "      <td>-0.911344</td>\n",
       "      <td>0.164337</td>\n",
       "    </tr>\n",
       "  </tbody>\n",
       "</table>\n",
       "</div>"
      ],
      "text/plain": [
       "                kolon1    kolon2    kolon3\n",
       "grup2 index1 -0.528608 -1.189648  0.105786\n",
       "      index2  0.616535  0.695706  1.371412\n",
       "      index3 -0.814304 -0.060133 -0.304634\n",
       "grup3 index1  0.745895  1.709092  0.300426\n",
       "      index2 -0.030110 -1.217938  1.308305\n",
       "      index3  2.014133 -0.911344  0.164337"
      ]
     },
     "execution_count": 66,
     "metadata": {},
     "output_type": "execute_result"
    }
   ],
   "source": [
    "dataframe.loc[[\"grup2\",\"grup3\"]]"
   ]
  },
  {
   "cell_type": "code",
   "execution_count": 67,
   "id": "42795436",
   "metadata": {},
   "outputs": [
    {
     "data": {
      "text/plain": [
       "kolon1   -1.721983\n",
       "kolon2   -0.687141\n",
       "kolon3    1.105149\n",
       "Name: index1, dtype: float64"
      ]
     },
     "execution_count": 67,
     "metadata": {},
     "output_type": "execute_result"
    }
   ],
   "source": [
    "dataframe.loc[\"grup1\"].loc[\"index1\"]"
   ]
  },
  {
   "cell_type": "code",
   "execution_count": 68,
   "id": "1093efdd",
   "metadata": {},
   "outputs": [
    {
     "data": {
      "text/plain": [
       "0.616535407220384"
      ]
     },
     "execution_count": 68,
     "metadata": {},
     "output_type": "execute_result"
    }
   ],
   "source": [
    "dataframe.loc[\"grup2\"].loc[\"index2\"][\"kolon1\"]"
   ]
  },
  {
   "cell_type": "code",
   "execution_count": 69,
   "id": "476afed1",
   "metadata": {},
   "outputs": [
    {
     "data": {
      "text/plain": [
       "FrozenList([None, None])"
      ]
     },
     "execution_count": 69,
     "metadata": {},
     "output_type": "execute_result"
    }
   ],
   "source": [
    "dataframe.index.names"
   ]
  },
  {
   "cell_type": "code",
   "execution_count": 70,
   "id": "829c55d3",
   "metadata": {},
   "outputs": [],
   "source": [
    "dataframe.index.names = [\"gruplar\",\"indexler\"]"
   ]
  },
  {
   "cell_type": "code",
   "execution_count": 71,
   "id": "bbe899cf",
   "metadata": {},
   "outputs": [
    {
     "data": {
      "text/html": [
       "<div>\n",
       "<style scoped>\n",
       "    .dataframe tbody tr th:only-of-type {\n",
       "        vertical-align: middle;\n",
       "    }\n",
       "\n",
       "    .dataframe tbody tr th {\n",
       "        vertical-align: top;\n",
       "    }\n",
       "\n",
       "    .dataframe thead th {\n",
       "        text-align: right;\n",
       "    }\n",
       "</style>\n",
       "<table border=\"1\" class=\"dataframe\">\n",
       "  <thead>\n",
       "    <tr style=\"text-align: right;\">\n",
       "      <th></th>\n",
       "      <th></th>\n",
       "      <th>kolon1</th>\n",
       "      <th>kolon2</th>\n",
       "      <th>kolon3</th>\n",
       "    </tr>\n",
       "    <tr>\n",
       "      <th>gruplar</th>\n",
       "      <th>indexler</th>\n",
       "      <th></th>\n",
       "      <th></th>\n",
       "      <th></th>\n",
       "    </tr>\n",
       "  </thead>\n",
       "  <tbody>\n",
       "    <tr>\n",
       "      <th rowspan=\"3\" valign=\"top\">grup1</th>\n",
       "      <th>index1</th>\n",
       "      <td>-1.721983</td>\n",
       "      <td>-0.687141</td>\n",
       "      <td>1.105149</td>\n",
       "    </tr>\n",
       "    <tr>\n",
       "      <th>index2</th>\n",
       "      <td>0.705745</td>\n",
       "      <td>-1.712028</td>\n",
       "      <td>0.790002</td>\n",
       "    </tr>\n",
       "    <tr>\n",
       "      <th>index3</th>\n",
       "      <td>-0.481775</td>\n",
       "      <td>-0.016269</td>\n",
       "      <td>1.233630</td>\n",
       "    </tr>\n",
       "    <tr>\n",
       "      <th rowspan=\"3\" valign=\"top\">grup2</th>\n",
       "      <th>index1</th>\n",
       "      <td>-0.528608</td>\n",
       "      <td>-1.189648</td>\n",
       "      <td>0.105786</td>\n",
       "    </tr>\n",
       "    <tr>\n",
       "      <th>index2</th>\n",
       "      <td>0.616535</td>\n",
       "      <td>0.695706</td>\n",
       "      <td>1.371412</td>\n",
       "    </tr>\n",
       "    <tr>\n",
       "      <th>index3</th>\n",
       "      <td>-0.814304</td>\n",
       "      <td>-0.060133</td>\n",
       "      <td>-0.304634</td>\n",
       "    </tr>\n",
       "    <tr>\n",
       "      <th rowspan=\"3\" valign=\"top\">grup3</th>\n",
       "      <th>index1</th>\n",
       "      <td>0.745895</td>\n",
       "      <td>1.709092</td>\n",
       "      <td>0.300426</td>\n",
       "    </tr>\n",
       "    <tr>\n",
       "      <th>index2</th>\n",
       "      <td>-0.030110</td>\n",
       "      <td>-1.217938</td>\n",
       "      <td>1.308305</td>\n",
       "    </tr>\n",
       "    <tr>\n",
       "      <th>index3</th>\n",
       "      <td>2.014133</td>\n",
       "      <td>-0.911344</td>\n",
       "      <td>0.164337</td>\n",
       "    </tr>\n",
       "  </tbody>\n",
       "</table>\n",
       "</div>"
      ],
      "text/plain": [
       "                    kolon1    kolon2    kolon3\n",
       "gruplar indexler                              \n",
       "grup1   index1   -1.721983 -0.687141  1.105149\n",
       "        index2    0.705745 -1.712028  0.790002\n",
       "        index3   -0.481775 -0.016269  1.233630\n",
       "grup2   index1   -0.528608 -1.189648  0.105786\n",
       "        index2    0.616535  0.695706  1.371412\n",
       "        index3   -0.814304 -0.060133 -0.304634\n",
       "grup3   index1    0.745895  1.709092  0.300426\n",
       "        index2   -0.030110 -1.217938  1.308305\n",
       "        index3    2.014133 -0.911344  0.164337"
      ]
     },
     "execution_count": 71,
     "metadata": {},
     "output_type": "execute_result"
    }
   ],
   "source": [
    "dataframe"
   ]
  },
  {
   "cell_type": "code",
   "execution_count": 72,
   "id": "08d2c85c",
   "metadata": {},
   "outputs": [
    {
     "data": {
      "text/html": [
       "<div>\n",
       "<style scoped>\n",
       "    .dataframe tbody tr th:only-of-type {\n",
       "        vertical-align: middle;\n",
       "    }\n",
       "\n",
       "    .dataframe tbody tr th {\n",
       "        vertical-align: top;\n",
       "    }\n",
       "\n",
       "    .dataframe thead th {\n",
       "        text-align: right;\n",
       "    }\n",
       "</style>\n",
       "<table border=\"1\" class=\"dataframe\">\n",
       "  <thead>\n",
       "    <tr style=\"text-align: right;\">\n",
       "      <th></th>\n",
       "      <th>kolon1</th>\n",
       "      <th>kolon2</th>\n",
       "      <th>kolon3</th>\n",
       "    </tr>\n",
       "    <tr>\n",
       "      <th>indexler</th>\n",
       "      <th></th>\n",
       "      <th></th>\n",
       "      <th></th>\n",
       "    </tr>\n",
       "  </thead>\n",
       "  <tbody>\n",
       "    <tr>\n",
       "      <th>index1</th>\n",
       "      <td>-1.721983</td>\n",
       "      <td>-0.687141</td>\n",
       "      <td>1.105149</td>\n",
       "    </tr>\n",
       "    <tr>\n",
       "      <th>index2</th>\n",
       "      <td>0.705745</td>\n",
       "      <td>-1.712028</td>\n",
       "      <td>0.790002</td>\n",
       "    </tr>\n",
       "    <tr>\n",
       "      <th>index3</th>\n",
       "      <td>-0.481775</td>\n",
       "      <td>-0.016269</td>\n",
       "      <td>1.233630</td>\n",
       "    </tr>\n",
       "  </tbody>\n",
       "</table>\n",
       "</div>"
      ],
      "text/plain": [
       "            kolon1    kolon2    kolon3\n",
       "indexler                              \n",
       "index1   -1.721983 -0.687141  1.105149\n",
       "index2    0.705745 -1.712028  0.790002\n",
       "index3   -0.481775 -0.016269  1.233630"
      ]
     },
     "execution_count": 72,
     "metadata": {},
     "output_type": "execute_result"
    }
   ],
   "source": [
    "dataframe.xs(\"grup1\")"
   ]
  },
  {
   "cell_type": "code",
   "execution_count": 73,
   "id": "d2078057",
   "metadata": {},
   "outputs": [
    {
     "data": {
      "text/plain": [
       "kolon1   -0.814304\n",
       "kolon2   -0.060133\n",
       "kolon3   -0.304634\n",
       "Name: index3, dtype: float64"
      ]
     },
     "execution_count": 73,
     "metadata": {},
     "output_type": "execute_result"
    }
   ],
   "source": [
    "dataframe.xs(\"grup2\").xs(\"index3\")"
   ]
  },
  {
   "cell_type": "code",
   "execution_count": 74,
   "id": "c56ced71",
   "metadata": {},
   "outputs": [
    {
     "data": {
      "text/plain": [
       "0.7458954246361279"
      ]
     },
     "execution_count": 74,
     "metadata": {},
     "output_type": "execute_result"
    }
   ],
   "source": [
    "dataframe.xs(\"grup3\").xs(\"index1\").xs(\"kolon1\")"
   ]
  },
  {
   "cell_type": "code",
   "execution_count": 75,
   "id": "d41368c3",
   "metadata": {},
   "outputs": [
    {
     "data": {
      "text/html": [
       "<div>\n",
       "<style scoped>\n",
       "    .dataframe tbody tr th:only-of-type {\n",
       "        vertical-align: middle;\n",
       "    }\n",
       "\n",
       "    .dataframe tbody tr th {\n",
       "        vertical-align: top;\n",
       "    }\n",
       "\n",
       "    .dataframe thead th {\n",
       "        text-align: right;\n",
       "    }\n",
       "</style>\n",
       "<table border=\"1\" class=\"dataframe\">\n",
       "  <thead>\n",
       "    <tr style=\"text-align: right;\">\n",
       "      <th></th>\n",
       "      <th>kolon1</th>\n",
       "      <th>kolon2</th>\n",
       "      <th>kolon3</th>\n",
       "    </tr>\n",
       "    <tr>\n",
       "      <th>gruplar</th>\n",
       "      <th></th>\n",
       "      <th></th>\n",
       "      <th></th>\n",
       "    </tr>\n",
       "  </thead>\n",
       "  <tbody>\n",
       "    <tr>\n",
       "      <th>grup1</th>\n",
       "      <td>-1.721983</td>\n",
       "      <td>-0.687141</td>\n",
       "      <td>1.105149</td>\n",
       "    </tr>\n",
       "    <tr>\n",
       "      <th>grup2</th>\n",
       "      <td>-0.528608</td>\n",
       "      <td>-1.189648</td>\n",
       "      <td>0.105786</td>\n",
       "    </tr>\n",
       "    <tr>\n",
       "      <th>grup3</th>\n",
       "      <td>0.745895</td>\n",
       "      <td>1.709092</td>\n",
       "      <td>0.300426</td>\n",
       "    </tr>\n",
       "  </tbody>\n",
       "</table>\n",
       "</div>"
      ],
      "text/plain": [
       "           kolon1    kolon2    kolon3\n",
       "gruplar                              \n",
       "grup1   -1.721983 -0.687141  1.105149\n",
       "grup2   -0.528608 -1.189648  0.105786\n",
       "grup3    0.745895  1.709092  0.300426"
      ]
     },
     "execution_count": 75,
     "metadata": {},
     "output_type": "execute_result"
    }
   ],
   "source": [
    "dataframe.xs(\"index1\",level = \"indexler\")"
   ]
  },
  {
   "cell_type": "code",
   "execution_count": 76,
   "id": "a9cb98b7",
   "metadata": {},
   "outputs": [],
   "source": [
    "array = numpy.array([[10,20,numpy.nan],[1,numpy.nan,numpy.nan],[100,numpy.nan,300]])"
   ]
  },
  {
   "cell_type": "code",
   "execution_count": 77,
   "id": "d4384b24",
   "metadata": {},
   "outputs": [
    {
     "data": {
      "text/plain": [
       "array([[ 10.,  20.,  nan],\n",
       "       [  1.,  nan,  nan],\n",
       "       [100.,  nan, 300.]])"
      ]
     },
     "execution_count": 77,
     "metadata": {},
     "output_type": "execute_result"
    }
   ],
   "source": [
    "array"
   ]
  },
  {
   "cell_type": "code",
   "execution_count": 78,
   "id": "951284ae",
   "metadata": {},
   "outputs": [],
   "source": [
    "dataframe = pandas.DataFrame(array,index = [\"index1\",\"index2\",\"index3\"],columns = [\"kolon1\",\"kolon2\",\"kolon3\"])"
   ]
  },
  {
   "cell_type": "code",
   "execution_count": 79,
   "id": "fd62f9a7",
   "metadata": {},
   "outputs": [
    {
     "data": {
      "text/html": [
       "<div>\n",
       "<style scoped>\n",
       "    .dataframe tbody tr th:only-of-type {\n",
       "        vertical-align: middle;\n",
       "    }\n",
       "\n",
       "    .dataframe tbody tr th {\n",
       "        vertical-align: top;\n",
       "    }\n",
       "\n",
       "    .dataframe thead th {\n",
       "        text-align: right;\n",
       "    }\n",
       "</style>\n",
       "<table border=\"1\" class=\"dataframe\">\n",
       "  <thead>\n",
       "    <tr style=\"text-align: right;\">\n",
       "      <th></th>\n",
       "      <th>kolon1</th>\n",
       "      <th>kolon2</th>\n",
       "      <th>kolon3</th>\n",
       "    </tr>\n",
       "  </thead>\n",
       "  <tbody>\n",
       "    <tr>\n",
       "      <th>index1</th>\n",
       "      <td>10.0</td>\n",
       "      <td>20.0</td>\n",
       "      <td>NaN</td>\n",
       "    </tr>\n",
       "    <tr>\n",
       "      <th>index2</th>\n",
       "      <td>1.0</td>\n",
       "      <td>NaN</td>\n",
       "      <td>NaN</td>\n",
       "    </tr>\n",
       "    <tr>\n",
       "      <th>index3</th>\n",
       "      <td>100.0</td>\n",
       "      <td>NaN</td>\n",
       "      <td>300.0</td>\n",
       "    </tr>\n",
       "  </tbody>\n",
       "</table>\n",
       "</div>"
      ],
      "text/plain": [
       "        kolon1  kolon2  kolon3\n",
       "index1    10.0    20.0     NaN\n",
       "index2     1.0     NaN     NaN\n",
       "index3   100.0     NaN   300.0"
      ]
     },
     "execution_count": 79,
     "metadata": {},
     "output_type": "execute_result"
    }
   ],
   "source": [
    "dataframe"
   ]
  },
  {
   "cell_type": "code",
   "execution_count": 80,
   "id": "05370f95",
   "metadata": {},
   "outputs": [
    {
     "data": {
      "text/html": [
       "<div>\n",
       "<style scoped>\n",
       "    .dataframe tbody tr th:only-of-type {\n",
       "        vertical-align: middle;\n",
       "    }\n",
       "\n",
       "    .dataframe tbody tr th {\n",
       "        vertical-align: top;\n",
       "    }\n",
       "\n",
       "    .dataframe thead th {\n",
       "        text-align: right;\n",
       "    }\n",
       "</style>\n",
       "<table border=\"1\" class=\"dataframe\">\n",
       "  <thead>\n",
       "    <tr style=\"text-align: right;\">\n",
       "      <th></th>\n",
       "      <th>kolon1</th>\n",
       "      <th>kolon2</th>\n",
       "      <th>kolon3</th>\n",
       "    </tr>\n",
       "  </thead>\n",
       "  <tbody>\n",
       "  </tbody>\n",
       "</table>\n",
       "</div>"
      ],
      "text/plain": [
       "Empty DataFrame\n",
       "Columns: [kolon1, kolon2, kolon3]\n",
       "Index: []"
      ]
     },
     "execution_count": 80,
     "metadata": {},
     "output_type": "execute_result"
    }
   ],
   "source": [
    "dataframe.dropna()         #indexinde nan olan bütün kolonları siler."
   ]
  },
  {
   "cell_type": "code",
   "execution_count": 81,
   "id": "acfe86bd",
   "metadata": {},
   "outputs": [
    {
     "data": {
      "text/html": [
       "<div>\n",
       "<style scoped>\n",
       "    .dataframe tbody tr th:only-of-type {\n",
       "        vertical-align: middle;\n",
       "    }\n",
       "\n",
       "    .dataframe tbody tr th {\n",
       "        vertical-align: top;\n",
       "    }\n",
       "\n",
       "    .dataframe thead th {\n",
       "        text-align: right;\n",
       "    }\n",
       "</style>\n",
       "<table border=\"1\" class=\"dataframe\">\n",
       "  <thead>\n",
       "    <tr style=\"text-align: right;\">\n",
       "      <th></th>\n",
       "      <th>kolon1</th>\n",
       "    </tr>\n",
       "  </thead>\n",
       "  <tbody>\n",
       "    <tr>\n",
       "      <th>index1</th>\n",
       "      <td>10.0</td>\n",
       "    </tr>\n",
       "    <tr>\n",
       "      <th>index2</th>\n",
       "      <td>1.0</td>\n",
       "    </tr>\n",
       "    <tr>\n",
       "      <th>index3</th>\n",
       "      <td>100.0</td>\n",
       "    </tr>\n",
       "  </tbody>\n",
       "</table>\n",
       "</div>"
      ],
      "text/plain": [
       "        kolon1\n",
       "index1    10.0\n",
       "index2     1.0\n",
       "index3   100.0"
      ]
     },
     "execution_count": 81,
     "metadata": {},
     "output_type": "execute_result"
    }
   ],
   "source": [
    "dataframe.dropna(axis = 1)     #kolonunnda nan olan bütün indexleri siler."
   ]
  },
  {
   "cell_type": "code",
   "execution_count": 82,
   "id": "48d2ba18",
   "metadata": {},
   "outputs": [
    {
     "data": {
      "text/html": [
       "<div>\n",
       "<style scoped>\n",
       "    .dataframe tbody tr th:only-of-type {\n",
       "        vertical-align: middle;\n",
       "    }\n",
       "\n",
       "    .dataframe tbody tr th {\n",
       "        vertical-align: top;\n",
       "    }\n",
       "\n",
       "    .dataframe thead th {\n",
       "        text-align: right;\n",
       "    }\n",
       "</style>\n",
       "<table border=\"1\" class=\"dataframe\">\n",
       "  <thead>\n",
       "    <tr style=\"text-align: right;\">\n",
       "      <th></th>\n",
       "      <th>kolon1</th>\n",
       "      <th>kolon2</th>\n",
       "      <th>kolon3</th>\n",
       "    </tr>\n",
       "  </thead>\n",
       "  <tbody>\n",
       "    <tr>\n",
       "      <th>index1</th>\n",
       "      <td>10.0</td>\n",
       "      <td>20.0</td>\n",
       "      <td>NaN</td>\n",
       "    </tr>\n",
       "    <tr>\n",
       "      <th>index3</th>\n",
       "      <td>100.0</td>\n",
       "      <td>NaN</td>\n",
       "      <td>300.0</td>\n",
       "    </tr>\n",
       "  </tbody>\n",
       "</table>\n",
       "</div>"
      ],
      "text/plain": [
       "        kolon1  kolon2  kolon3\n",
       "index1    10.0    20.0     NaN\n",
       "index3   100.0     NaN   300.0"
      ]
     },
     "execution_count": 82,
     "metadata": {},
     "output_type": "execute_result"
    }
   ],
   "source": [
    "dataframe.dropna(thresh = 2)           #indexte minimum 2 nan olmayan değer varsa silme demek."
   ]
  },
  {
   "cell_type": "code",
   "execution_count": 83,
   "id": "79cabb93",
   "metadata": {},
   "outputs": [
    {
     "data": {
      "text/html": [
       "<div>\n",
       "<style scoped>\n",
       "    .dataframe tbody tr th:only-of-type {\n",
       "        vertical-align: middle;\n",
       "    }\n",
       "\n",
       "    .dataframe tbody tr th {\n",
       "        vertical-align: top;\n",
       "    }\n",
       "\n",
       "    .dataframe thead th {\n",
       "        text-align: right;\n",
       "    }\n",
       "</style>\n",
       "<table border=\"1\" class=\"dataframe\">\n",
       "  <thead>\n",
       "    <tr style=\"text-align: right;\">\n",
       "      <th></th>\n",
       "      <th>kolon1</th>\n",
       "      <th>kolon2</th>\n",
       "      <th>kolon3</th>\n",
       "    </tr>\n",
       "  </thead>\n",
       "  <tbody>\n",
       "    <tr>\n",
       "      <th>index1</th>\n",
       "      <td>10.0</td>\n",
       "      <td>20.0</td>\n",
       "      <td>1.0</td>\n",
       "    </tr>\n",
       "    <tr>\n",
       "      <th>index2</th>\n",
       "      <td>1.0</td>\n",
       "      <td>1.0</td>\n",
       "      <td>1.0</td>\n",
       "    </tr>\n",
       "    <tr>\n",
       "      <th>index3</th>\n",
       "      <td>100.0</td>\n",
       "      <td>1.0</td>\n",
       "      <td>300.0</td>\n",
       "    </tr>\n",
       "  </tbody>\n",
       "</table>\n",
       "</div>"
      ],
      "text/plain": [
       "        kolon1  kolon2  kolon3\n",
       "index1    10.0    20.0     1.0\n",
       "index2     1.0     1.0     1.0\n",
       "index3   100.0     1.0   300.0"
      ]
     },
     "execution_count": 83,
     "metadata": {},
     "output_type": "execute_result"
    }
   ],
   "source": [
    "dataframe.fillna(value = 1)          #nan olan değerleri 1 yapar"
   ]
  },
  {
   "cell_type": "code",
   "execution_count": 84,
   "id": "69ca88bf",
   "metadata": {},
   "outputs": [
    {
     "data": {
      "text/html": [
       "<div>\n",
       "<style scoped>\n",
       "    .dataframe tbody tr th:only-of-type {\n",
       "        vertical-align: middle;\n",
       "    }\n",
       "\n",
       "    .dataframe tbody tr th {\n",
       "        vertical-align: top;\n",
       "    }\n",
       "\n",
       "    .dataframe thead th {\n",
       "        text-align: right;\n",
       "    }\n",
       "</style>\n",
       "<table border=\"1\" class=\"dataframe\">\n",
       "  <thead>\n",
       "    <tr style=\"text-align: right;\">\n",
       "      <th></th>\n",
       "      <th>kolon1</th>\n",
       "      <th>kolon2</th>\n",
       "      <th>kolon3</th>\n",
       "    </tr>\n",
       "  </thead>\n",
       "  <tbody>\n",
       "    <tr>\n",
       "      <th>index1</th>\n",
       "      <td>10.0</td>\n",
       "      <td>20.0</td>\n",
       "      <td>NaN</td>\n",
       "    </tr>\n",
       "    <tr>\n",
       "      <th>index2</th>\n",
       "      <td>1.0</td>\n",
       "      <td>NaN</td>\n",
       "      <td>NaN</td>\n",
       "    </tr>\n",
       "    <tr>\n",
       "      <th>index3</th>\n",
       "      <td>100.0</td>\n",
       "      <td>NaN</td>\n",
       "      <td>300.0</td>\n",
       "    </tr>\n",
       "  </tbody>\n",
       "</table>\n",
       "</div>"
      ],
      "text/plain": [
       "        kolon1  kolon2  kolon3\n",
       "index1    10.0    20.0     NaN\n",
       "index2     1.0     NaN     NaN\n",
       "index3   100.0     NaN   300.0"
      ]
     },
     "execution_count": 84,
     "metadata": {},
     "output_type": "execute_result"
    }
   ],
   "source": [
    "dataframe"
   ]
  },
  {
   "cell_type": "code",
   "execution_count": 85,
   "id": "ef07ffdc",
   "metadata": {},
   "outputs": [
    {
     "data": {
      "text/plain": [
       "kolon1    111.0\n",
       "kolon2     20.0\n",
       "kolon3    300.0\n",
       "dtype: float64"
      ]
     },
     "execution_count": 85,
     "metadata": {},
     "output_type": "execute_result"
    }
   ],
   "source": [
    "dataframe.sum()          #kolon kolon toplar"
   ]
  },
  {
   "cell_type": "code",
   "execution_count": 86,
   "id": "51e8d564",
   "metadata": {},
   "outputs": [
    {
     "data": {
      "text/plain": [
       "431.0"
      ]
     },
     "execution_count": 86,
     "metadata": {},
     "output_type": "execute_result"
    }
   ],
   "source": [
    "dataframe.sum().sum()"
   ]
  },
  {
   "cell_type": "code",
   "execution_count": 87,
   "id": "eb341960",
   "metadata": {},
   "outputs": [
    {
     "data": {
      "text/plain": [
       "9"
      ]
     },
     "execution_count": 87,
     "metadata": {},
     "output_type": "execute_result"
    }
   ],
   "source": [
    "dataframe.size      #veri sayısını verir."
   ]
  },
  {
   "cell_type": "code",
   "execution_count": 88,
   "id": "da172183",
   "metadata": {},
   "outputs": [
    {
     "data": {
      "text/plain": [
       "kolon1    0\n",
       "kolon2    2\n",
       "kolon3    2\n",
       "dtype: int64"
      ]
     },
     "execution_count": 88,
     "metadata": {},
     "output_type": "execute_result"
    }
   ],
   "source": [
    "dataframe.isnull().sum()              #null olan veri sayısını verir."
   ]
  },
  {
   "cell_type": "code",
   "execution_count": 89,
   "id": "d0b7f023",
   "metadata": {},
   "outputs": [
    {
     "data": {
      "text/plain": [
       "4"
      ]
     },
     "execution_count": 89,
     "metadata": {},
     "output_type": "execute_result"
    }
   ],
   "source": [
    "dataframe.isnull().sum().sum()        #toplam null sayısı"
   ]
  },
  {
   "cell_type": "code",
   "execution_count": 90,
   "id": "3911e626",
   "metadata": {},
   "outputs": [],
   "source": [
    "set = {\n",
    "    \"departman\":[\"bilişim\",\"insan kaynakları\",\"üretim\",\"üretim\",\"bilişim\",\"insan kaynakları\"],\n",
    "    \"çalışan\":[\"çalışan1\",\"çalışan2\",\"çalışan3\",\"çalışan4\",\"çalışan5\",\"çalışan6\"],\n",
    "    \"maaş\":[3000,3500,2500,4500,4000,2000]\n",
    "    }"
   ]
  },
  {
   "cell_type": "code",
   "execution_count": 91,
   "id": "a62082cf",
   "metadata": {},
   "outputs": [],
   "source": [
    "dataframe = pandas.DataFrame(set)"
   ]
  },
  {
   "cell_type": "code",
   "execution_count": 92,
   "id": "42a0771e",
   "metadata": {},
   "outputs": [
    {
     "data": {
      "text/html": [
       "<div>\n",
       "<style scoped>\n",
       "    .dataframe tbody tr th:only-of-type {\n",
       "        vertical-align: middle;\n",
       "    }\n",
       "\n",
       "    .dataframe tbody tr th {\n",
       "        vertical-align: top;\n",
       "    }\n",
       "\n",
       "    .dataframe thead th {\n",
       "        text-align: right;\n",
       "    }\n",
       "</style>\n",
       "<table border=\"1\" class=\"dataframe\">\n",
       "  <thead>\n",
       "    <tr style=\"text-align: right;\">\n",
       "      <th></th>\n",
       "      <th>departman</th>\n",
       "      <th>çalışan</th>\n",
       "      <th>maaş</th>\n",
       "    </tr>\n",
       "  </thead>\n",
       "  <tbody>\n",
       "    <tr>\n",
       "      <th>0</th>\n",
       "      <td>bilişim</td>\n",
       "      <td>çalışan1</td>\n",
       "      <td>3000</td>\n",
       "    </tr>\n",
       "    <tr>\n",
       "      <th>1</th>\n",
       "      <td>insan kaynakları</td>\n",
       "      <td>çalışan2</td>\n",
       "      <td>3500</td>\n",
       "    </tr>\n",
       "    <tr>\n",
       "      <th>2</th>\n",
       "      <td>üretim</td>\n",
       "      <td>çalışan3</td>\n",
       "      <td>2500</td>\n",
       "    </tr>\n",
       "    <tr>\n",
       "      <th>3</th>\n",
       "      <td>üretim</td>\n",
       "      <td>çalışan4</td>\n",
       "      <td>4500</td>\n",
       "    </tr>\n",
       "    <tr>\n",
       "      <th>4</th>\n",
       "      <td>bilişim</td>\n",
       "      <td>çalışan5</td>\n",
       "      <td>4000</td>\n",
       "    </tr>\n",
       "    <tr>\n",
       "      <th>5</th>\n",
       "      <td>insan kaynakları</td>\n",
       "      <td>çalışan6</td>\n",
       "      <td>2000</td>\n",
       "    </tr>\n",
       "  </tbody>\n",
       "</table>\n",
       "</div>"
      ],
      "text/plain": [
       "          departman   çalışan  maaş\n",
       "0           bilişim  çalışan1  3000\n",
       "1  insan kaynakları  çalışan2  3500\n",
       "2            üretim  çalışan3  2500\n",
       "3            üretim  çalışan4  4500\n",
       "4           bilişim  çalışan5  4000\n",
       "5  insan kaynakları  çalışan6  2000"
      ]
     },
     "execution_count": 92,
     "metadata": {},
     "output_type": "execute_result"
    }
   ],
   "source": [
    "dataframe"
   ]
  },
  {
   "cell_type": "code",
   "execution_count": 93,
   "id": "1b75cb80",
   "metadata": {},
   "outputs": [],
   "source": [
    "departman_grup = dataframe.groupby(\"departman\")"
   ]
  },
  {
   "cell_type": "code",
   "execution_count": 94,
   "id": "e8da7106",
   "metadata": {},
   "outputs": [
    {
     "data": {
      "text/plain": [
       "<pandas.core.groupby.generic.DataFrameGroupBy object at 0x000001D7FA4A3E80>"
      ]
     },
     "execution_count": 94,
     "metadata": {},
     "output_type": "execute_result"
    }
   ],
   "source": [
    "departman_grup"
   ]
  },
  {
   "cell_type": "code",
   "execution_count": 95,
   "id": "bd188678",
   "metadata": {},
   "outputs": [
    {
     "data": {
      "text/html": [
       "<div>\n",
       "<style scoped>\n",
       "    .dataframe tbody tr th:only-of-type {\n",
       "        vertical-align: middle;\n",
       "    }\n",
       "\n",
       "    .dataframe tbody tr th {\n",
       "        vertical-align: top;\n",
       "    }\n",
       "\n",
       "    .dataframe thead th {\n",
       "        text-align: right;\n",
       "    }\n",
       "</style>\n",
       "<table border=\"1\" class=\"dataframe\">\n",
       "  <thead>\n",
       "    <tr style=\"text-align: right;\">\n",
       "      <th></th>\n",
       "      <th>maaş</th>\n",
       "    </tr>\n",
       "    <tr>\n",
       "      <th>departman</th>\n",
       "      <th></th>\n",
       "    </tr>\n",
       "  </thead>\n",
       "  <tbody>\n",
       "    <tr>\n",
       "      <th>bilişim</th>\n",
       "      <td>7000</td>\n",
       "    </tr>\n",
       "    <tr>\n",
       "      <th>insan kaynakları</th>\n",
       "      <td>5500</td>\n",
       "    </tr>\n",
       "    <tr>\n",
       "      <th>üretim</th>\n",
       "      <td>7000</td>\n",
       "    </tr>\n",
       "  </tbody>\n",
       "</table>\n",
       "</div>"
      ],
      "text/plain": [
       "                  maaş\n",
       "departman             \n",
       "bilişim           7000\n",
       "insan kaynakları  5500\n",
       "üretim            7000"
      ]
     },
     "execution_count": 95,
     "metadata": {},
     "output_type": "execute_result"
    }
   ],
   "source": [
    "departman_grup.sum()"
   ]
  },
  {
   "cell_type": "code",
   "execution_count": 96,
   "id": "b8f6d3a0",
   "metadata": {},
   "outputs": [
    {
     "data": {
      "text/html": [
       "<div>\n",
       "<style scoped>\n",
       "    .dataframe tbody tr th:only-of-type {\n",
       "        vertical-align: middle;\n",
       "    }\n",
       "\n",
       "    .dataframe tbody tr th {\n",
       "        vertical-align: top;\n",
       "    }\n",
       "\n",
       "    .dataframe thead th {\n",
       "        text-align: right;\n",
       "    }\n",
       "</style>\n",
       "<table border=\"1\" class=\"dataframe\">\n",
       "  <thead>\n",
       "    <tr style=\"text-align: right;\">\n",
       "      <th></th>\n",
       "      <th>maaş</th>\n",
       "    </tr>\n",
       "    <tr>\n",
       "      <th>departman</th>\n",
       "      <th></th>\n",
       "    </tr>\n",
       "  </thead>\n",
       "  <tbody>\n",
       "    <tr>\n",
       "      <th>bilişim</th>\n",
       "      <td>7000</td>\n",
       "    </tr>\n",
       "    <tr>\n",
       "      <th>insan kaynakları</th>\n",
       "      <td>5500</td>\n",
       "    </tr>\n",
       "    <tr>\n",
       "      <th>üretim</th>\n",
       "      <td>7000</td>\n",
       "    </tr>\n",
       "  </tbody>\n",
       "</table>\n",
       "</div>"
      ],
      "text/plain": [
       "                  maaş\n",
       "departman             \n",
       "bilişim           7000\n",
       "insan kaynakları  5500\n",
       "üretim            7000"
      ]
     },
     "execution_count": 96,
     "metadata": {},
     "output_type": "execute_result"
    }
   ],
   "source": [
    "dataframe.groupby(\"departman\").sum()"
   ]
  },
  {
   "cell_type": "code",
   "execution_count": 97,
   "id": "6dbbf8b3",
   "metadata": {},
   "outputs": [
    {
     "data": {
      "text/plain": [
       "maaş    7000\n",
       "Name: bilişim, dtype: int64"
      ]
     },
     "execution_count": 97,
     "metadata": {},
     "output_type": "execute_result"
    }
   ],
   "source": [
    "dataframe.groupby(\"departman\").sum().loc[\"bilişim\"]"
   ]
  },
  {
   "cell_type": "code",
   "execution_count": 98,
   "id": "3f86e1f4",
   "metadata": {},
   "outputs": [
    {
     "data": {
      "text/plain": [
       "5500"
      ]
     },
     "execution_count": 98,
     "metadata": {},
     "output_type": "execute_result"
    }
   ],
   "source": [
    "int(dataframe.groupby(\"departman\").sum().loc[\"insan kaynakları\"])"
   ]
  },
  {
   "cell_type": "code",
   "execution_count": 99,
   "id": "e8f0e4bc",
   "metadata": {},
   "outputs": [
    {
     "data": {
      "text/html": [
       "<div>\n",
       "<style scoped>\n",
       "    .dataframe tbody tr th:only-of-type {\n",
       "        vertical-align: middle;\n",
       "    }\n",
       "\n",
       "    .dataframe tbody tr th {\n",
       "        vertical-align: top;\n",
       "    }\n",
       "\n",
       "    .dataframe thead th {\n",
       "        text-align: right;\n",
       "    }\n",
       "</style>\n",
       "<table border=\"1\" class=\"dataframe\">\n",
       "  <thead>\n",
       "    <tr style=\"text-align: right;\">\n",
       "      <th></th>\n",
       "      <th>çalışan</th>\n",
       "      <th>maaş</th>\n",
       "    </tr>\n",
       "    <tr>\n",
       "      <th>departman</th>\n",
       "      <th></th>\n",
       "      <th></th>\n",
       "    </tr>\n",
       "  </thead>\n",
       "  <tbody>\n",
       "    <tr>\n",
       "      <th>bilişim</th>\n",
       "      <td>2</td>\n",
       "      <td>2</td>\n",
       "    </tr>\n",
       "    <tr>\n",
       "      <th>insan kaynakları</th>\n",
       "      <td>2</td>\n",
       "      <td>2</td>\n",
       "    </tr>\n",
       "    <tr>\n",
       "      <th>üretim</th>\n",
       "      <td>2</td>\n",
       "      <td>2</td>\n",
       "    </tr>\n",
       "  </tbody>\n",
       "</table>\n",
       "</div>"
      ],
      "text/plain": [
       "                  çalışan  maaş\n",
       "departman                      \n",
       "bilişim                 2     2\n",
       "insan kaynakları        2     2\n",
       "üretim                  2     2"
      ]
     },
     "execution_count": 99,
     "metadata": {},
     "output_type": "execute_result"
    }
   ],
   "source": [
    "dataframe.groupby(\"departman\").count()"
   ]
  },
  {
   "cell_type": "code",
   "execution_count": 100,
   "id": "3fed64bf",
   "metadata": {},
   "outputs": [
    {
     "data": {
      "text/html": [
       "<div>\n",
       "<style scoped>\n",
       "    .dataframe tbody tr th:only-of-type {\n",
       "        vertical-align: middle;\n",
       "    }\n",
       "\n",
       "    .dataframe tbody tr th {\n",
       "        vertical-align: top;\n",
       "    }\n",
       "\n",
       "    .dataframe thead th {\n",
       "        text-align: right;\n",
       "    }\n",
       "</style>\n",
       "<table border=\"1\" class=\"dataframe\">\n",
       "  <thead>\n",
       "    <tr style=\"text-align: right;\">\n",
       "      <th></th>\n",
       "      <th>çalışan</th>\n",
       "      <th>maaş</th>\n",
       "    </tr>\n",
       "    <tr>\n",
       "      <th>departman</th>\n",
       "      <th></th>\n",
       "      <th></th>\n",
       "    </tr>\n",
       "  </thead>\n",
       "  <tbody>\n",
       "    <tr>\n",
       "      <th>bilişim</th>\n",
       "      <td>çalışan5</td>\n",
       "      <td>4000</td>\n",
       "    </tr>\n",
       "    <tr>\n",
       "      <th>insan kaynakları</th>\n",
       "      <td>çalışan6</td>\n",
       "      <td>3500</td>\n",
       "    </tr>\n",
       "    <tr>\n",
       "      <th>üretim</th>\n",
       "      <td>çalışan4</td>\n",
       "      <td>4500</td>\n",
       "    </tr>\n",
       "  </tbody>\n",
       "</table>\n",
       "</div>"
      ],
      "text/plain": [
       "                   çalışan  maaş\n",
       "departman                       \n",
       "bilişim           çalışan5  4000\n",
       "insan kaynakları  çalışan6  3500\n",
       "üretim            çalışan4  4500"
      ]
     },
     "execution_count": 100,
     "metadata": {},
     "output_type": "execute_result"
    }
   ],
   "source": [
    "dataframe.groupby(\"departman\").max()"
   ]
  },
  {
   "cell_type": "code",
   "execution_count": 101,
   "id": "0859f4f2",
   "metadata": {},
   "outputs": [
    {
     "data": {
      "text/plain": [
       "departman\n",
       "bilişim             3000\n",
       "insan kaynakları    2000\n",
       "üretim              2500\n",
       "Name: maaş, dtype: int64"
      ]
     },
     "execution_count": 101,
     "metadata": {},
     "output_type": "execute_result"
    }
   ],
   "source": [
    "dataframe.groupby(\"departman\").min()[\"maaş\"]"
   ]
  },
  {
   "cell_type": "code",
   "execution_count": 102,
   "id": "11f462a7",
   "metadata": {},
   "outputs": [
    {
     "data": {
      "text/plain": [
       "2500"
      ]
     },
     "execution_count": 102,
     "metadata": {},
     "output_type": "execute_result"
    }
   ],
   "source": [
    "dataframe.groupby(\"departman\").min()[\"maaş\"][\"üretim\"]"
   ]
  },
  {
   "cell_type": "code",
   "execution_count": 103,
   "id": "0dc3fa5d",
   "metadata": {},
   "outputs": [
    {
     "data": {
      "text/html": [
       "<div>\n",
       "<style scoped>\n",
       "    .dataframe tbody tr th:only-of-type {\n",
       "        vertical-align: middle;\n",
       "    }\n",
       "\n",
       "    .dataframe tbody tr th {\n",
       "        vertical-align: top;\n",
       "    }\n",
       "\n",
       "    .dataframe thead th {\n",
       "        text-align: right;\n",
       "    }\n",
       "</style>\n",
       "<table border=\"1\" class=\"dataframe\">\n",
       "  <thead>\n",
       "    <tr style=\"text-align: right;\">\n",
       "      <th></th>\n",
       "      <th>maaş</th>\n",
       "    </tr>\n",
       "    <tr>\n",
       "      <th>departman</th>\n",
       "      <th></th>\n",
       "    </tr>\n",
       "  </thead>\n",
       "  <tbody>\n",
       "    <tr>\n",
       "      <th>bilişim</th>\n",
       "      <td>3500.0</td>\n",
       "    </tr>\n",
       "    <tr>\n",
       "      <th>insan kaynakları</th>\n",
       "      <td>2750.0</td>\n",
       "    </tr>\n",
       "    <tr>\n",
       "      <th>üretim</th>\n",
       "      <td>3500.0</td>\n",
       "    </tr>\n",
       "  </tbody>\n",
       "</table>\n",
       "</div>"
      ],
      "text/plain": [
       "                    maaş\n",
       "departman               \n",
       "bilişim           3500.0\n",
       "insan kaynakları  2750.0\n",
       "üretim            3500.0"
      ]
     },
     "execution_count": 103,
     "metadata": {},
     "output_type": "execute_result"
    }
   ],
   "source": [
    "dataframe.groupby(\"departman\").mean()"
   ]
  },
  {
   "cell_type": "code",
   "execution_count": 104,
   "id": "38236542",
   "metadata": {},
   "outputs": [],
   "source": [
    "set1 = {\n",
    "    \"A\":[\"A1\",\"A2\",\"A3\",\"A4\"],\n",
    "    \"B\":[\"B1\",\"B2\",\"B3\",\"B4\"],\n",
    "    \"C\":[\"C1\",\"C2\",\"C3\",\"C4\"]\n",
    "}\n",
    "set2 = {\n",
    "    \"A\":[\"A5\",\"A6\",\"A7\",\"A8\"],\n",
    "    \"B\":[\"B5\",\"B6\",\"B7\",\"B8\"],\n",
    "    \"C\":[\"C5\",\"C6\",\"C7\",\"C8\"]\n",
    "}"
   ]
  },
  {
   "cell_type": "code",
   "execution_count": 105,
   "id": "1b8db12c",
   "metadata": {},
   "outputs": [],
   "source": [
    "dataframe1 = pandas.DataFrame(set1,index = [1,2,3,4])\n",
    "dataframe2 = pandas.DataFrame(set2,index = [5,6,7,8])"
   ]
  },
  {
   "cell_type": "code",
   "execution_count": 106,
   "id": "34e52eed",
   "metadata": {},
   "outputs": [
    {
     "data": {
      "text/html": [
       "<div>\n",
       "<style scoped>\n",
       "    .dataframe tbody tr th:only-of-type {\n",
       "        vertical-align: middle;\n",
       "    }\n",
       "\n",
       "    .dataframe tbody tr th {\n",
       "        vertical-align: top;\n",
       "    }\n",
       "\n",
       "    .dataframe thead th {\n",
       "        text-align: right;\n",
       "    }\n",
       "</style>\n",
       "<table border=\"1\" class=\"dataframe\">\n",
       "  <thead>\n",
       "    <tr style=\"text-align: right;\">\n",
       "      <th></th>\n",
       "      <th>A</th>\n",
       "      <th>B</th>\n",
       "      <th>C</th>\n",
       "    </tr>\n",
       "  </thead>\n",
       "  <tbody>\n",
       "    <tr>\n",
       "      <th>1</th>\n",
       "      <td>A1</td>\n",
       "      <td>B1</td>\n",
       "      <td>C1</td>\n",
       "    </tr>\n",
       "    <tr>\n",
       "      <th>2</th>\n",
       "      <td>A2</td>\n",
       "      <td>B2</td>\n",
       "      <td>C2</td>\n",
       "    </tr>\n",
       "    <tr>\n",
       "      <th>3</th>\n",
       "      <td>A3</td>\n",
       "      <td>B3</td>\n",
       "      <td>C3</td>\n",
       "    </tr>\n",
       "    <tr>\n",
       "      <th>4</th>\n",
       "      <td>A4</td>\n",
       "      <td>B4</td>\n",
       "      <td>C4</td>\n",
       "    </tr>\n",
       "  </tbody>\n",
       "</table>\n",
       "</div>"
      ],
      "text/plain": [
       "    A   B   C\n",
       "1  A1  B1  C1\n",
       "2  A2  B2  C2\n",
       "3  A3  B3  C3\n",
       "4  A4  B4  C4"
      ]
     },
     "execution_count": 106,
     "metadata": {},
     "output_type": "execute_result"
    }
   ],
   "source": [
    "dataframe1"
   ]
  },
  {
   "cell_type": "code",
   "execution_count": 107,
   "id": "0befac3e",
   "metadata": {},
   "outputs": [
    {
     "data": {
      "text/html": [
       "<div>\n",
       "<style scoped>\n",
       "    .dataframe tbody tr th:only-of-type {\n",
       "        vertical-align: middle;\n",
       "    }\n",
       "\n",
       "    .dataframe tbody tr th {\n",
       "        vertical-align: top;\n",
       "    }\n",
       "\n",
       "    .dataframe thead th {\n",
       "        text-align: right;\n",
       "    }\n",
       "</style>\n",
       "<table border=\"1\" class=\"dataframe\">\n",
       "  <thead>\n",
       "    <tr style=\"text-align: right;\">\n",
       "      <th></th>\n",
       "      <th>A</th>\n",
       "      <th>B</th>\n",
       "      <th>C</th>\n",
       "    </tr>\n",
       "  </thead>\n",
       "  <tbody>\n",
       "    <tr>\n",
       "      <th>5</th>\n",
       "      <td>A5</td>\n",
       "      <td>B5</td>\n",
       "      <td>C5</td>\n",
       "    </tr>\n",
       "    <tr>\n",
       "      <th>6</th>\n",
       "      <td>A6</td>\n",
       "      <td>B6</td>\n",
       "      <td>C6</td>\n",
       "    </tr>\n",
       "    <tr>\n",
       "      <th>7</th>\n",
       "      <td>A7</td>\n",
       "      <td>B7</td>\n",
       "      <td>C7</td>\n",
       "    </tr>\n",
       "    <tr>\n",
       "      <th>8</th>\n",
       "      <td>A8</td>\n",
       "      <td>B8</td>\n",
       "      <td>C8</td>\n",
       "    </tr>\n",
       "  </tbody>\n",
       "</table>\n",
       "</div>"
      ],
      "text/plain": [
       "    A   B   C\n",
       "5  A5  B5  C5\n",
       "6  A6  B6  C6\n",
       "7  A7  B7  C7\n",
       "8  A8  B8  C8"
      ]
     },
     "execution_count": 107,
     "metadata": {},
     "output_type": "execute_result"
    }
   ],
   "source": [
    "dataframe2"
   ]
  },
  {
   "cell_type": "code",
   "execution_count": 108,
   "id": "65fe14e9",
   "metadata": {},
   "outputs": [
    {
     "data": {
      "text/html": [
       "<div>\n",
       "<style scoped>\n",
       "    .dataframe tbody tr th:only-of-type {\n",
       "        vertical-align: middle;\n",
       "    }\n",
       "\n",
       "    .dataframe tbody tr th {\n",
       "        vertical-align: top;\n",
       "    }\n",
       "\n",
       "    .dataframe thead th {\n",
       "        text-align: right;\n",
       "    }\n",
       "</style>\n",
       "<table border=\"1\" class=\"dataframe\">\n",
       "  <thead>\n",
       "    <tr style=\"text-align: right;\">\n",
       "      <th></th>\n",
       "      <th>A</th>\n",
       "      <th>B</th>\n",
       "      <th>C</th>\n",
       "    </tr>\n",
       "  </thead>\n",
       "  <tbody>\n",
       "    <tr>\n",
       "      <th>1</th>\n",
       "      <td>A1</td>\n",
       "      <td>B1</td>\n",
       "      <td>C1</td>\n",
       "    </tr>\n",
       "    <tr>\n",
       "      <th>2</th>\n",
       "      <td>A2</td>\n",
       "      <td>B2</td>\n",
       "      <td>C2</td>\n",
       "    </tr>\n",
       "    <tr>\n",
       "      <th>3</th>\n",
       "      <td>A3</td>\n",
       "      <td>B3</td>\n",
       "      <td>C3</td>\n",
       "    </tr>\n",
       "    <tr>\n",
       "      <th>4</th>\n",
       "      <td>A4</td>\n",
       "      <td>B4</td>\n",
       "      <td>C4</td>\n",
       "    </tr>\n",
       "    <tr>\n",
       "      <th>5</th>\n",
       "      <td>A5</td>\n",
       "      <td>B5</td>\n",
       "      <td>C5</td>\n",
       "    </tr>\n",
       "    <tr>\n",
       "      <th>6</th>\n",
       "      <td>A6</td>\n",
       "      <td>B6</td>\n",
       "      <td>C6</td>\n",
       "    </tr>\n",
       "    <tr>\n",
       "      <th>7</th>\n",
       "      <td>A7</td>\n",
       "      <td>B7</td>\n",
       "      <td>C7</td>\n",
       "    </tr>\n",
       "    <tr>\n",
       "      <th>8</th>\n",
       "      <td>A8</td>\n",
       "      <td>B8</td>\n",
       "      <td>C8</td>\n",
       "    </tr>\n",
       "  </tbody>\n",
       "</table>\n",
       "</div>"
      ],
      "text/plain": [
       "    A   B   C\n",
       "1  A1  B1  C1\n",
       "2  A2  B2  C2\n",
       "3  A3  B3  C3\n",
       "4  A4  B4  C4\n",
       "5  A5  B5  C5\n",
       "6  A6  B6  C6\n",
       "7  A7  B7  C7\n",
       "8  A8  B8  C8"
      ]
     },
     "execution_count": 108,
     "metadata": {},
     "output_type": "execute_result"
    }
   ],
   "source": [
    "pandas.concat([dataframe1,dataframe2])"
   ]
  },
  {
   "cell_type": "code",
   "execution_count": 109,
   "id": "5f1db087",
   "metadata": {},
   "outputs": [
    {
     "data": {
      "text/html": [
       "<div>\n",
       "<style scoped>\n",
       "    .dataframe tbody tr th:only-of-type {\n",
       "        vertical-align: middle;\n",
       "    }\n",
       "\n",
       "    .dataframe tbody tr th {\n",
       "        vertical-align: top;\n",
       "    }\n",
       "\n",
       "    .dataframe thead th {\n",
       "        text-align: right;\n",
       "    }\n",
       "</style>\n",
       "<table border=\"1\" class=\"dataframe\">\n",
       "  <thead>\n",
       "    <tr style=\"text-align: right;\">\n",
       "      <th></th>\n",
       "      <th>A</th>\n",
       "      <th>B</th>\n",
       "      <th>C</th>\n",
       "      <th>A</th>\n",
       "      <th>B</th>\n",
       "      <th>C</th>\n",
       "    </tr>\n",
       "  </thead>\n",
       "  <tbody>\n",
       "    <tr>\n",
       "      <th>1</th>\n",
       "      <td>A1</td>\n",
       "      <td>B1</td>\n",
       "      <td>C1</td>\n",
       "      <td>NaN</td>\n",
       "      <td>NaN</td>\n",
       "      <td>NaN</td>\n",
       "    </tr>\n",
       "    <tr>\n",
       "      <th>2</th>\n",
       "      <td>A2</td>\n",
       "      <td>B2</td>\n",
       "      <td>C2</td>\n",
       "      <td>NaN</td>\n",
       "      <td>NaN</td>\n",
       "      <td>NaN</td>\n",
       "    </tr>\n",
       "    <tr>\n",
       "      <th>3</th>\n",
       "      <td>A3</td>\n",
       "      <td>B3</td>\n",
       "      <td>C3</td>\n",
       "      <td>NaN</td>\n",
       "      <td>NaN</td>\n",
       "      <td>NaN</td>\n",
       "    </tr>\n",
       "    <tr>\n",
       "      <th>4</th>\n",
       "      <td>A4</td>\n",
       "      <td>B4</td>\n",
       "      <td>C4</td>\n",
       "      <td>NaN</td>\n",
       "      <td>NaN</td>\n",
       "      <td>NaN</td>\n",
       "    </tr>\n",
       "    <tr>\n",
       "      <th>5</th>\n",
       "      <td>NaN</td>\n",
       "      <td>NaN</td>\n",
       "      <td>NaN</td>\n",
       "      <td>A5</td>\n",
       "      <td>B5</td>\n",
       "      <td>C5</td>\n",
       "    </tr>\n",
       "    <tr>\n",
       "      <th>6</th>\n",
       "      <td>NaN</td>\n",
       "      <td>NaN</td>\n",
       "      <td>NaN</td>\n",
       "      <td>A6</td>\n",
       "      <td>B6</td>\n",
       "      <td>C6</td>\n",
       "    </tr>\n",
       "    <tr>\n",
       "      <th>7</th>\n",
       "      <td>NaN</td>\n",
       "      <td>NaN</td>\n",
       "      <td>NaN</td>\n",
       "      <td>A7</td>\n",
       "      <td>B7</td>\n",
       "      <td>C7</td>\n",
       "    </tr>\n",
       "    <tr>\n",
       "      <th>8</th>\n",
       "      <td>NaN</td>\n",
       "      <td>NaN</td>\n",
       "      <td>NaN</td>\n",
       "      <td>A8</td>\n",
       "      <td>B8</td>\n",
       "      <td>C8</td>\n",
       "    </tr>\n",
       "  </tbody>\n",
       "</table>\n",
       "</div>"
      ],
      "text/plain": [
       "     A    B    C    A    B    C\n",
       "1   A1   B1   C1  NaN  NaN  NaN\n",
       "2   A2   B2   C2  NaN  NaN  NaN\n",
       "3   A3   B3   C3  NaN  NaN  NaN\n",
       "4   A4   B4   C4  NaN  NaN  NaN\n",
       "5  NaN  NaN  NaN   A5   B5   C5\n",
       "6  NaN  NaN  NaN   A6   B6   C6\n",
       "7  NaN  NaN  NaN   A7   B7   C7\n",
       "8  NaN  NaN  NaN   A8   B8   C8"
      ]
     },
     "execution_count": 109,
     "metadata": {},
     "output_type": "execute_result"
    }
   ],
   "source": [
    "pandas.concat([dataframe1,dataframe2],axis = 1)"
   ]
  },
  {
   "cell_type": "code",
   "execution_count": 110,
   "id": "caf2d691",
   "metadata": {},
   "outputs": [],
   "source": [
    "set1 = {\n",
    "    \"A\":[\"A1\",\"A2\",\"A3\",\"A4\"],\n",
    "    \"B\":[\"B1\",\"B2\",\"B3\",\"B4\"]\n",
    "}\n",
    "set2 = {\n",
    "    \"X\":[\"X1\",\"X2\",\"X3\"],\n",
    "    \"Y\":[\"Y1\",\"Y2\",\"Y3\"]\n",
    "}"
   ]
  },
  {
   "cell_type": "code",
   "execution_count": 111,
   "id": "b1ad29ce",
   "metadata": {},
   "outputs": [],
   "source": [
    "dataframe1 = pandas.DataFrame(set1,index = [1,2,3,4])\n",
    "dataframe2 = pandas.DataFrame(set2,index = [1,2,3])"
   ]
  },
  {
   "cell_type": "code",
   "execution_count": 112,
   "id": "c9b77ee2",
   "metadata": {},
   "outputs": [
    {
     "data": {
      "text/html": [
       "<div>\n",
       "<style scoped>\n",
       "    .dataframe tbody tr th:only-of-type {\n",
       "        vertical-align: middle;\n",
       "    }\n",
       "\n",
       "    .dataframe tbody tr th {\n",
       "        vertical-align: top;\n",
       "    }\n",
       "\n",
       "    .dataframe thead th {\n",
       "        text-align: right;\n",
       "    }\n",
       "</style>\n",
       "<table border=\"1\" class=\"dataframe\">\n",
       "  <thead>\n",
       "    <tr style=\"text-align: right;\">\n",
       "      <th></th>\n",
       "      <th>A</th>\n",
       "      <th>B</th>\n",
       "    </tr>\n",
       "  </thead>\n",
       "  <tbody>\n",
       "    <tr>\n",
       "      <th>1</th>\n",
       "      <td>A1</td>\n",
       "      <td>B1</td>\n",
       "    </tr>\n",
       "    <tr>\n",
       "      <th>2</th>\n",
       "      <td>A2</td>\n",
       "      <td>B2</td>\n",
       "    </tr>\n",
       "    <tr>\n",
       "      <th>3</th>\n",
       "      <td>A3</td>\n",
       "      <td>B3</td>\n",
       "    </tr>\n",
       "    <tr>\n",
       "      <th>4</th>\n",
       "      <td>A4</td>\n",
       "      <td>B4</td>\n",
       "    </tr>\n",
       "  </tbody>\n",
       "</table>\n",
       "</div>"
      ],
      "text/plain": [
       "    A   B\n",
       "1  A1  B1\n",
       "2  A2  B2\n",
       "3  A3  B3\n",
       "4  A4  B4"
      ]
     },
     "execution_count": 112,
     "metadata": {},
     "output_type": "execute_result"
    }
   ],
   "source": [
    "dataframe1 "
   ]
  },
  {
   "cell_type": "code",
   "execution_count": 113,
   "id": "8ebdab38",
   "metadata": {},
   "outputs": [
    {
     "data": {
      "text/html": [
       "<div>\n",
       "<style scoped>\n",
       "    .dataframe tbody tr th:only-of-type {\n",
       "        vertical-align: middle;\n",
       "    }\n",
       "\n",
       "    .dataframe tbody tr th {\n",
       "        vertical-align: top;\n",
       "    }\n",
       "\n",
       "    .dataframe thead th {\n",
       "        text-align: right;\n",
       "    }\n",
       "</style>\n",
       "<table border=\"1\" class=\"dataframe\">\n",
       "  <thead>\n",
       "    <tr style=\"text-align: right;\">\n",
       "      <th></th>\n",
       "      <th>X</th>\n",
       "      <th>Y</th>\n",
       "    </tr>\n",
       "  </thead>\n",
       "  <tbody>\n",
       "    <tr>\n",
       "      <th>1</th>\n",
       "      <td>X1</td>\n",
       "      <td>Y1</td>\n",
       "    </tr>\n",
       "    <tr>\n",
       "      <th>2</th>\n",
       "      <td>X2</td>\n",
       "      <td>Y2</td>\n",
       "    </tr>\n",
       "    <tr>\n",
       "      <th>3</th>\n",
       "      <td>X3</td>\n",
       "      <td>Y3</td>\n",
       "    </tr>\n",
       "  </tbody>\n",
       "</table>\n",
       "</div>"
      ],
      "text/plain": [
       "    X   Y\n",
       "1  X1  Y1\n",
       "2  X2  Y2\n",
       "3  X3  Y3"
      ]
     },
     "execution_count": 113,
     "metadata": {},
     "output_type": "execute_result"
    }
   ],
   "source": [
    "dataframe2"
   ]
  },
  {
   "cell_type": "code",
   "execution_count": 114,
   "id": "f0e767f2",
   "metadata": {},
   "outputs": [
    {
     "data": {
      "text/html": [
       "<div>\n",
       "<style scoped>\n",
       "    .dataframe tbody tr th:only-of-type {\n",
       "        vertical-align: middle;\n",
       "    }\n",
       "\n",
       "    .dataframe tbody tr th {\n",
       "        vertical-align: top;\n",
       "    }\n",
       "\n",
       "    .dataframe thead th {\n",
       "        text-align: right;\n",
       "    }\n",
       "</style>\n",
       "<table border=\"1\" class=\"dataframe\">\n",
       "  <thead>\n",
       "    <tr style=\"text-align: right;\">\n",
       "      <th></th>\n",
       "      <th>A</th>\n",
       "      <th>B</th>\n",
       "      <th>X</th>\n",
       "      <th>Y</th>\n",
       "    </tr>\n",
       "  </thead>\n",
       "  <tbody>\n",
       "    <tr>\n",
       "      <th>1</th>\n",
       "      <td>A1</td>\n",
       "      <td>B1</td>\n",
       "      <td>X1</td>\n",
       "      <td>Y1</td>\n",
       "    </tr>\n",
       "    <tr>\n",
       "      <th>2</th>\n",
       "      <td>A2</td>\n",
       "      <td>B2</td>\n",
       "      <td>X2</td>\n",
       "      <td>Y2</td>\n",
       "    </tr>\n",
       "    <tr>\n",
       "      <th>3</th>\n",
       "      <td>A3</td>\n",
       "      <td>B3</td>\n",
       "      <td>X3</td>\n",
       "      <td>Y3</td>\n",
       "    </tr>\n",
       "    <tr>\n",
       "      <th>4</th>\n",
       "      <td>A4</td>\n",
       "      <td>B4</td>\n",
       "      <td>NaN</td>\n",
       "      <td>NaN</td>\n",
       "    </tr>\n",
       "  </tbody>\n",
       "</table>\n",
       "</div>"
      ],
      "text/plain": [
       "    A   B    X    Y\n",
       "1  A1  B1   X1   Y1\n",
       "2  A2  B2   X2   Y2\n",
       "3  A3  B3   X3   Y3\n",
       "4  A4  B4  NaN  NaN"
      ]
     },
     "execution_count": 114,
     "metadata": {},
     "output_type": "execute_result"
    }
   ],
   "source": [
    "dataframe1.join(dataframe2)"
   ]
  },
  {
   "cell_type": "code",
   "execution_count": 115,
   "id": "2ff0fc48",
   "metadata": {},
   "outputs": [
    {
     "data": {
      "text/html": [
       "<div>\n",
       "<style scoped>\n",
       "    .dataframe tbody tr th:only-of-type {\n",
       "        vertical-align: middle;\n",
       "    }\n",
       "\n",
       "    .dataframe tbody tr th {\n",
       "        vertical-align: top;\n",
       "    }\n",
       "\n",
       "    .dataframe thead th {\n",
       "        text-align: right;\n",
       "    }\n",
       "</style>\n",
       "<table border=\"1\" class=\"dataframe\">\n",
       "  <thead>\n",
       "    <tr style=\"text-align: right;\">\n",
       "      <th></th>\n",
       "      <th>X</th>\n",
       "      <th>Y</th>\n",
       "      <th>A</th>\n",
       "      <th>B</th>\n",
       "    </tr>\n",
       "  </thead>\n",
       "  <tbody>\n",
       "    <tr>\n",
       "      <th>1</th>\n",
       "      <td>X1</td>\n",
       "      <td>Y1</td>\n",
       "      <td>A1</td>\n",
       "      <td>B1</td>\n",
       "    </tr>\n",
       "    <tr>\n",
       "      <th>2</th>\n",
       "      <td>X2</td>\n",
       "      <td>Y2</td>\n",
       "      <td>A2</td>\n",
       "      <td>B2</td>\n",
       "    </tr>\n",
       "    <tr>\n",
       "      <th>3</th>\n",
       "      <td>X3</td>\n",
       "      <td>Y3</td>\n",
       "      <td>A3</td>\n",
       "      <td>B3</td>\n",
       "    </tr>\n",
       "  </tbody>\n",
       "</table>\n",
       "</div>"
      ],
      "text/plain": [
       "    X   Y   A   B\n",
       "1  X1  Y1  A1  B1\n",
       "2  X2  Y2  A2  B2\n",
       "3  X3  Y3  A3  B3"
      ]
     },
     "execution_count": 115,
     "metadata": {},
     "output_type": "execute_result"
    }
   ],
   "source": [
    "dataframe2.join(dataframe1)"
   ]
  },
  {
   "cell_type": "code",
   "execution_count": 116,
   "id": "4154195a",
   "metadata": {},
   "outputs": [],
   "source": [
    "set1 = {\n",
    "    \"A\":[\"A1\",\"A2\",\"A3\",\"A4\"],\n",
    "    \"B\":[\"B1\",\"B2\",\"B3\",\"B4\"]\n",
    "}\n",
    "set2 = {\n",
    "    \"A\":[\"A1\",\"X2\",\"X3\"],\n",
    "    \"B\":[\"B1\",\"B2\",\"B3\"]\n",
    "}"
   ]
  },
  {
   "cell_type": "code",
   "execution_count": 117,
   "id": "ae1d2792",
   "metadata": {},
   "outputs": [],
   "source": [
    "dataframe1 = pandas.DataFrame(set1,index = [1,2,3,4])\n",
    "dataframe2 = pandas.DataFrame(set2,index = [1,2,3])"
   ]
  },
  {
   "cell_type": "code",
   "execution_count": 118,
   "id": "606057fa",
   "metadata": {},
   "outputs": [
    {
     "data": {
      "text/html": [
       "<div>\n",
       "<style scoped>\n",
       "    .dataframe tbody tr th:only-of-type {\n",
       "        vertical-align: middle;\n",
       "    }\n",
       "\n",
       "    .dataframe tbody tr th {\n",
       "        vertical-align: top;\n",
       "    }\n",
       "\n",
       "    .dataframe thead th {\n",
       "        text-align: right;\n",
       "    }\n",
       "</style>\n",
       "<table border=\"1\" class=\"dataframe\">\n",
       "  <thead>\n",
       "    <tr style=\"text-align: right;\">\n",
       "      <th></th>\n",
       "      <th>A</th>\n",
       "      <th>B</th>\n",
       "    </tr>\n",
       "  </thead>\n",
       "  <tbody>\n",
       "    <tr>\n",
       "      <th>1</th>\n",
       "      <td>A1</td>\n",
       "      <td>B1</td>\n",
       "    </tr>\n",
       "    <tr>\n",
       "      <th>2</th>\n",
       "      <td>A2</td>\n",
       "      <td>B2</td>\n",
       "    </tr>\n",
       "    <tr>\n",
       "      <th>3</th>\n",
       "      <td>A3</td>\n",
       "      <td>B3</td>\n",
       "    </tr>\n",
       "    <tr>\n",
       "      <th>4</th>\n",
       "      <td>A4</td>\n",
       "      <td>B4</td>\n",
       "    </tr>\n",
       "  </tbody>\n",
       "</table>\n",
       "</div>"
      ],
      "text/plain": [
       "    A   B\n",
       "1  A1  B1\n",
       "2  A2  B2\n",
       "3  A3  B3\n",
       "4  A4  B4"
      ]
     },
     "execution_count": 118,
     "metadata": {},
     "output_type": "execute_result"
    }
   ],
   "source": [
    "dataframe1"
   ]
  },
  {
   "cell_type": "code",
   "execution_count": 119,
   "id": "3327e2b0",
   "metadata": {},
   "outputs": [
    {
     "data": {
      "text/html": [
       "<div>\n",
       "<style scoped>\n",
       "    .dataframe tbody tr th:only-of-type {\n",
       "        vertical-align: middle;\n",
       "    }\n",
       "\n",
       "    .dataframe tbody tr th {\n",
       "        vertical-align: top;\n",
       "    }\n",
       "\n",
       "    .dataframe thead th {\n",
       "        text-align: right;\n",
       "    }\n",
       "</style>\n",
       "<table border=\"1\" class=\"dataframe\">\n",
       "  <thead>\n",
       "    <tr style=\"text-align: right;\">\n",
       "      <th></th>\n",
       "      <th>A</th>\n",
       "      <th>B</th>\n",
       "    </tr>\n",
       "  </thead>\n",
       "  <tbody>\n",
       "    <tr>\n",
       "      <th>1</th>\n",
       "      <td>A1</td>\n",
       "      <td>B1</td>\n",
       "    </tr>\n",
       "    <tr>\n",
       "      <th>2</th>\n",
       "      <td>X2</td>\n",
       "      <td>B2</td>\n",
       "    </tr>\n",
       "    <tr>\n",
       "      <th>3</th>\n",
       "      <td>X3</td>\n",
       "      <td>B3</td>\n",
       "    </tr>\n",
       "  </tbody>\n",
       "</table>\n",
       "</div>"
      ],
      "text/plain": [
       "    A   B\n",
       "1  A1  B1\n",
       "2  X2  B2\n",
       "3  X3  B3"
      ]
     },
     "execution_count": 119,
     "metadata": {},
     "output_type": "execute_result"
    }
   ],
   "source": [
    "dataframe2"
   ]
  },
  {
   "cell_type": "code",
   "execution_count": 120,
   "id": "d565aba8",
   "metadata": {},
   "outputs": [
    {
     "data": {
      "text/html": [
       "<div>\n",
       "<style scoped>\n",
       "    .dataframe tbody tr th:only-of-type {\n",
       "        vertical-align: middle;\n",
       "    }\n",
       "\n",
       "    .dataframe tbody tr th {\n",
       "        vertical-align: top;\n",
       "    }\n",
       "\n",
       "    .dataframe thead th {\n",
       "        text-align: right;\n",
       "    }\n",
       "</style>\n",
       "<table border=\"1\" class=\"dataframe\">\n",
       "  <thead>\n",
       "    <tr style=\"text-align: right;\">\n",
       "      <th></th>\n",
       "      <th>A_x</th>\n",
       "      <th>B</th>\n",
       "      <th>A_y</th>\n",
       "    </tr>\n",
       "  </thead>\n",
       "  <tbody>\n",
       "    <tr>\n",
       "      <th>0</th>\n",
       "      <td>A1</td>\n",
       "      <td>B1</td>\n",
       "      <td>A1</td>\n",
       "    </tr>\n",
       "    <tr>\n",
       "      <th>1</th>\n",
       "      <td>A2</td>\n",
       "      <td>B2</td>\n",
       "      <td>X2</td>\n",
       "    </tr>\n",
       "    <tr>\n",
       "      <th>2</th>\n",
       "      <td>A3</td>\n",
       "      <td>B3</td>\n",
       "      <td>X3</td>\n",
       "    </tr>\n",
       "  </tbody>\n",
       "</table>\n",
       "</div>"
      ],
      "text/plain": [
       "  A_x   B A_y\n",
       "0  A1  B1  A1\n",
       "1  A2  B2  X2\n",
       "2  A3  B3  X3"
      ]
     },
     "execution_count": 120,
     "metadata": {},
     "output_type": "execute_result"
    }
   ],
   "source": [
    "pandas.merge(dataframe1,dataframe2,on = \"B\")        #ortak olanları verir B kolonuna göre"
   ]
  },
  {
   "cell_type": "code",
   "execution_count": 121,
   "id": "a8f7cbbd",
   "metadata": {},
   "outputs": [],
   "source": [
    "dataframe = pandas.DataFrame({\n",
    "    \"kolon1\":[1,2,3,4,5,6],\n",
    "    \"kolon2\":[100,100,200,300,300,100],\n",
    "    \"kolon3\":[\"kişi1\",\"kişi2\",\"kişi3\",\"kişi4\",\"kişi5\",\"kişi6\"]\n",
    "})"
   ]
  },
  {
   "cell_type": "code",
   "execution_count": 122,
   "id": "69d0eef7",
   "metadata": {},
   "outputs": [
    {
     "data": {
      "text/html": [
       "<div>\n",
       "<style scoped>\n",
       "    .dataframe tbody tr th:only-of-type {\n",
       "        vertical-align: middle;\n",
       "    }\n",
       "\n",
       "    .dataframe tbody tr th {\n",
       "        vertical-align: top;\n",
       "    }\n",
       "\n",
       "    .dataframe thead th {\n",
       "        text-align: right;\n",
       "    }\n",
       "</style>\n",
       "<table border=\"1\" class=\"dataframe\">\n",
       "  <thead>\n",
       "    <tr style=\"text-align: right;\">\n",
       "      <th></th>\n",
       "      <th>kolon1</th>\n",
       "      <th>kolon2</th>\n",
       "      <th>kolon3</th>\n",
       "    </tr>\n",
       "  </thead>\n",
       "  <tbody>\n",
       "    <tr>\n",
       "      <th>0</th>\n",
       "      <td>1</td>\n",
       "      <td>100</td>\n",
       "      <td>kişi1</td>\n",
       "    </tr>\n",
       "    <tr>\n",
       "      <th>1</th>\n",
       "      <td>2</td>\n",
       "      <td>100</td>\n",
       "      <td>kişi2</td>\n",
       "    </tr>\n",
       "    <tr>\n",
       "      <th>2</th>\n",
       "      <td>3</td>\n",
       "      <td>200</td>\n",
       "      <td>kişi3</td>\n",
       "    </tr>\n",
       "    <tr>\n",
       "      <th>3</th>\n",
       "      <td>4</td>\n",
       "      <td>300</td>\n",
       "      <td>kişi4</td>\n",
       "    </tr>\n",
       "    <tr>\n",
       "      <th>4</th>\n",
       "      <td>5</td>\n",
       "      <td>300</td>\n",
       "      <td>kişi5</td>\n",
       "    </tr>\n",
       "    <tr>\n",
       "      <th>5</th>\n",
       "      <td>6</td>\n",
       "      <td>100</td>\n",
       "      <td>kişi6</td>\n",
       "    </tr>\n",
       "  </tbody>\n",
       "</table>\n",
       "</div>"
      ],
      "text/plain": [
       "   kolon1  kolon2 kolon3\n",
       "0       1     100  kişi1\n",
       "1       2     100  kişi2\n",
       "2       3     200  kişi3\n",
       "3       4     300  kişi4\n",
       "4       5     300  kişi5\n",
       "5       6     100  kişi6"
      ]
     },
     "execution_count": 122,
     "metadata": {},
     "output_type": "execute_result"
    }
   ],
   "source": [
    "dataframe"
   ]
  },
  {
   "cell_type": "code",
   "execution_count": 123,
   "id": "dfd36f57",
   "metadata": {},
   "outputs": [
    {
     "data": {
      "text/html": [
       "<div>\n",
       "<style scoped>\n",
       "    .dataframe tbody tr th:only-of-type {\n",
       "        vertical-align: middle;\n",
       "    }\n",
       "\n",
       "    .dataframe tbody tr th {\n",
       "        vertical-align: top;\n",
       "    }\n",
       "\n",
       "    .dataframe thead th {\n",
       "        text-align: right;\n",
       "    }\n",
       "</style>\n",
       "<table border=\"1\" class=\"dataframe\">\n",
       "  <thead>\n",
       "    <tr style=\"text-align: right;\">\n",
       "      <th></th>\n",
       "      <th>kolon1</th>\n",
       "      <th>kolon2</th>\n",
       "      <th>kolon3</th>\n",
       "    </tr>\n",
       "  </thead>\n",
       "  <tbody>\n",
       "    <tr>\n",
       "      <th>0</th>\n",
       "      <td>1</td>\n",
       "      <td>100</td>\n",
       "      <td>kişi1</td>\n",
       "    </tr>\n",
       "    <tr>\n",
       "      <th>1</th>\n",
       "      <td>2</td>\n",
       "      <td>100</td>\n",
       "      <td>kişi2</td>\n",
       "    </tr>\n",
       "    <tr>\n",
       "      <th>2</th>\n",
       "      <td>3</td>\n",
       "      <td>200</td>\n",
       "      <td>kişi3</td>\n",
       "    </tr>\n",
       "    <tr>\n",
       "      <th>3</th>\n",
       "      <td>4</td>\n",
       "      <td>300</td>\n",
       "      <td>kişi4</td>\n",
       "    </tr>\n",
       "  </tbody>\n",
       "</table>\n",
       "</div>"
      ],
      "text/plain": [
       "   kolon1  kolon2 kolon3\n",
       "0       1     100  kişi1\n",
       "1       2     100  kişi2\n",
       "2       3     200  kişi3\n",
       "3       4     300  kişi4"
      ]
     },
     "execution_count": 123,
     "metadata": {},
     "output_type": "execute_result"
    }
   ],
   "source": [
    "dataframe.head(n = 4)      #ilk 4 satırı getirir."
   ]
  },
  {
   "cell_type": "code",
   "execution_count": 124,
   "id": "1804e2e1",
   "metadata": {},
   "outputs": [
    {
     "data": {
      "text/plain": [
       "array([100, 200, 300], dtype=int64)"
      ]
     },
     "execution_count": 124,
     "metadata": {},
     "output_type": "execute_result"
    }
   ],
   "source": [
    "dataframe[\"kolon2\"].unique()            #seçilen kolondaki benzersiz değerleri getirir."
   ]
  },
  {
   "cell_type": "code",
   "execution_count": 125,
   "id": "1b069b39",
   "metadata": {},
   "outputs": [
    {
     "data": {
      "text/plain": [
       "3"
      ]
     },
     "execution_count": 125,
     "metadata": {},
     "output_type": "execute_result"
    }
   ],
   "source": [
    "dataframe[\"kolon2\"].nunique()          #seçilen kolondaaki benzersiz değerlerin kaç tane olduğunu getirir."
   ]
  },
  {
   "cell_type": "code",
   "execution_count": 126,
   "id": "e19a9b16",
   "metadata": {},
   "outputs": [
    {
     "data": {
      "text/plain": [
       "100    3\n",
       "300    2\n",
       "200    1\n",
       "Name: kolon2, dtype: int64"
      ]
     },
     "execution_count": 126,
     "metadata": {},
     "output_type": "execute_result"
    }
   ],
   "source": [
    "dataframe[\"kolon2\"].value_counts()      #seçilen kolondaki değerlerden kaç tane olduğunu verir."
   ]
  },
  {
   "cell_type": "code",
   "execution_count": 127,
   "id": "6c3deaaa",
   "metadata": {},
   "outputs": [
    {
     "data": {
      "text/html": [
       "<div>\n",
       "<style scoped>\n",
       "    .dataframe tbody tr th:only-of-type {\n",
       "        vertical-align: middle;\n",
       "    }\n",
       "\n",
       "    .dataframe tbody tr th {\n",
       "        vertical-align: top;\n",
       "    }\n",
       "\n",
       "    .dataframe thead th {\n",
       "        text-align: right;\n",
       "    }\n",
       "</style>\n",
       "<table border=\"1\" class=\"dataframe\">\n",
       "  <thead>\n",
       "    <tr style=\"text-align: right;\">\n",
       "      <th></th>\n",
       "      <th>kolon1</th>\n",
       "      <th>kolon2</th>\n",
       "      <th>kolon3</th>\n",
       "    </tr>\n",
       "  </thead>\n",
       "  <tbody>\n",
       "    <tr>\n",
       "      <th>3</th>\n",
       "      <td>4</td>\n",
       "      <td>300</td>\n",
       "      <td>kişi4</td>\n",
       "    </tr>\n",
       "    <tr>\n",
       "      <th>4</th>\n",
       "      <td>5</td>\n",
       "      <td>300</td>\n",
       "      <td>kişi5</td>\n",
       "    </tr>\n",
       "    <tr>\n",
       "      <th>5</th>\n",
       "      <td>6</td>\n",
       "      <td>100</td>\n",
       "      <td>kişi6</td>\n",
       "    </tr>\n",
       "  </tbody>\n",
       "</table>\n",
       "</div>"
      ],
      "text/plain": [
       "   kolon1  kolon2 kolon3\n",
       "3       4     300  kişi4\n",
       "4       5     300  kişi5\n",
       "5       6     100  kişi6"
      ]
     },
     "execution_count": 127,
     "metadata": {},
     "output_type": "execute_result"
    }
   ],
   "source": [
    "dataframe[dataframe[\"kolon1\"]>=4]"
   ]
  },
  {
   "cell_type": "code",
   "execution_count": 128,
   "id": "b5c493df",
   "metadata": {},
   "outputs": [
    {
     "data": {
      "text/html": [
       "<div>\n",
       "<style scoped>\n",
       "    .dataframe tbody tr th:only-of-type {\n",
       "        vertical-align: middle;\n",
       "    }\n",
       "\n",
       "    .dataframe tbody tr th {\n",
       "        vertical-align: top;\n",
       "    }\n",
       "\n",
       "    .dataframe thead th {\n",
       "        text-align: right;\n",
       "    }\n",
       "</style>\n",
       "<table border=\"1\" class=\"dataframe\">\n",
       "  <thead>\n",
       "    <tr style=\"text-align: right;\">\n",
       "      <th></th>\n",
       "      <th>kolon1</th>\n",
       "      <th>kolon2</th>\n",
       "      <th>kolon3</th>\n",
       "    </tr>\n",
       "  </thead>\n",
       "  <tbody>\n",
       "    <tr>\n",
       "      <th>3</th>\n",
       "      <td>4</td>\n",
       "      <td>300</td>\n",
       "      <td>kişi4</td>\n",
       "    </tr>\n",
       "    <tr>\n",
       "      <th>4</th>\n",
       "      <td>5</td>\n",
       "      <td>300</td>\n",
       "      <td>kişi5</td>\n",
       "    </tr>\n",
       "  </tbody>\n",
       "</table>\n",
       "</div>"
      ],
      "text/plain": [
       "   kolon1  kolon2 kolon3\n",
       "3       4     300  kişi4\n",
       "4       5     300  kişi5"
      ]
     },
     "execution_count": 128,
     "metadata": {},
     "output_type": "execute_result"
    }
   ],
   "source": [
    "dataframe[(dataframe[\"kolon1\"]>=4) & (dataframe[\"kolon2\"] == 300)]"
   ]
  },
  {
   "cell_type": "code",
   "execution_count": 129,
   "id": "1d0b632c",
   "metadata": {},
   "outputs": [],
   "source": [
    "def carp(x):\n",
    "    \n",
    "    return x*5"
   ]
  },
  {
   "cell_type": "code",
   "execution_count": 130,
   "id": "695f4554",
   "metadata": {},
   "outputs": [
    {
     "data": {
      "text/plain": [
       "10"
      ]
     },
     "execution_count": 130,
     "metadata": {},
     "output_type": "execute_result"
    }
   ],
   "source": [
    "carp(2)"
   ]
  },
  {
   "cell_type": "code",
   "execution_count": 131,
   "id": "3ded961a",
   "metadata": {},
   "outputs": [
    {
     "data": {
      "text/plain": [
       "0     500\n",
       "1     500\n",
       "2    1000\n",
       "3    1500\n",
       "4    1500\n",
       "5     500\n",
       "Name: kolon2, dtype: int64"
      ]
     },
     "execution_count": 131,
     "metadata": {},
     "output_type": "execute_result"
    }
   ],
   "source": [
    "dataframe[\"kolon2\"].apply(carp)"
   ]
  },
  {
   "cell_type": "code",
   "execution_count": 132,
   "id": "5c988476",
   "metadata": {},
   "outputs": [],
   "source": [
    "dataframe[\"kolon2\"] = dataframe[\"kolon2\"].apply(carp)"
   ]
  },
  {
   "cell_type": "code",
   "execution_count": 133,
   "id": "255886df",
   "metadata": {},
   "outputs": [
    {
     "data": {
      "text/html": [
       "<div>\n",
       "<style scoped>\n",
       "    .dataframe tbody tr th:only-of-type {\n",
       "        vertical-align: middle;\n",
       "    }\n",
       "\n",
       "    .dataframe tbody tr th {\n",
       "        vertical-align: top;\n",
       "    }\n",
       "\n",
       "    .dataframe thead th {\n",
       "        text-align: right;\n",
       "    }\n",
       "</style>\n",
       "<table border=\"1\" class=\"dataframe\">\n",
       "  <thead>\n",
       "    <tr style=\"text-align: right;\">\n",
       "      <th></th>\n",
       "      <th>kolon1</th>\n",
       "      <th>kolon2</th>\n",
       "      <th>kolon3</th>\n",
       "    </tr>\n",
       "  </thead>\n",
       "  <tbody>\n",
       "    <tr>\n",
       "      <th>0</th>\n",
       "      <td>1</td>\n",
       "      <td>500</td>\n",
       "      <td>kişi1</td>\n",
       "    </tr>\n",
       "    <tr>\n",
       "      <th>1</th>\n",
       "      <td>2</td>\n",
       "      <td>500</td>\n",
       "      <td>kişi2</td>\n",
       "    </tr>\n",
       "    <tr>\n",
       "      <th>2</th>\n",
       "      <td>3</td>\n",
       "      <td>1000</td>\n",
       "      <td>kişi3</td>\n",
       "    </tr>\n",
       "    <tr>\n",
       "      <th>3</th>\n",
       "      <td>4</td>\n",
       "      <td>1500</td>\n",
       "      <td>kişi4</td>\n",
       "    </tr>\n",
       "    <tr>\n",
       "      <th>4</th>\n",
       "      <td>5</td>\n",
       "      <td>1500</td>\n",
       "      <td>kişi5</td>\n",
       "    </tr>\n",
       "    <tr>\n",
       "      <th>5</th>\n",
       "      <td>6</td>\n",
       "      <td>500</td>\n",
       "      <td>kişi6</td>\n",
       "    </tr>\n",
       "  </tbody>\n",
       "</table>\n",
       "</div>"
      ],
      "text/plain": [
       "   kolon1  kolon2 kolon3\n",
       "0       1     500  kişi1\n",
       "1       2     500  kişi2\n",
       "2       3    1000  kişi3\n",
       "3       4    1500  kişi4\n",
       "4       5    1500  kişi5\n",
       "5       6     500  kişi6"
      ]
     },
     "execution_count": 133,
     "metadata": {},
     "output_type": "execute_result"
    }
   ],
   "source": [
    "dataframe"
   ]
  },
  {
   "cell_type": "code",
   "execution_count": 134,
   "id": "c722ea21",
   "metadata": {},
   "outputs": [],
   "source": [
    "carp = lambda x : x * 5     #bu şekilde fonsiyon oluşturulur."
   ]
  },
  {
   "cell_type": "code",
   "execution_count": 135,
   "id": "cd6f7624",
   "metadata": {},
   "outputs": [
    {
     "data": {
      "text/plain": [
       "10"
      ]
     },
     "execution_count": 135,
     "metadata": {},
     "output_type": "execute_result"
    }
   ],
   "source": [
    "carp(2)"
   ]
  },
  {
   "cell_type": "code",
   "execution_count": 136,
   "id": "b7127325",
   "metadata": {},
   "outputs": [
    {
     "data": {
      "text/plain": [
       "0    1000\n",
       "1    1000\n",
       "2    2000\n",
       "3    3000\n",
       "4    3000\n",
       "5    1000\n",
       "Name: kolon2, dtype: int64"
      ]
     },
     "execution_count": 136,
     "metadata": {},
     "output_type": "execute_result"
    }
   ],
   "source": [
    " dataframe[\"kolon2\"].apply(lambda x : x * 2)"
   ]
  },
  {
   "cell_type": "code",
   "execution_count": 137,
   "id": "dbe21a9e",
   "metadata": {},
   "outputs": [
    {
     "data": {
      "text/plain": [
       "0    5\n",
       "1    5\n",
       "2    5\n",
       "3    5\n",
       "4    5\n",
       "5    5\n",
       "Name: kolon3, dtype: int64"
      ]
     },
     "execution_count": 137,
     "metadata": {},
     "output_type": "execute_result"
    }
   ],
   "source": [
    "dataframe[\"kolon3\"].apply(len)       #kişi isimlerinin harf sayısı"
   ]
  },
  {
   "cell_type": "code",
   "execution_count": 138,
   "id": "4077b5a1",
   "metadata": {},
   "outputs": [
    {
     "data": {
      "text/html": [
       "<div>\n",
       "<style scoped>\n",
       "    .dataframe tbody tr th:only-of-type {\n",
       "        vertical-align: middle;\n",
       "    }\n",
       "\n",
       "    .dataframe tbody tr th {\n",
       "        vertical-align: top;\n",
       "    }\n",
       "\n",
       "    .dataframe thead th {\n",
       "        text-align: right;\n",
       "    }\n",
       "</style>\n",
       "<table border=\"1\" class=\"dataframe\">\n",
       "  <thead>\n",
       "    <tr style=\"text-align: right;\">\n",
       "      <th></th>\n",
       "      <th>kolon1</th>\n",
       "      <th>kolon2</th>\n",
       "    </tr>\n",
       "  </thead>\n",
       "  <tbody>\n",
       "    <tr>\n",
       "      <th>0</th>\n",
       "      <td>1</td>\n",
       "      <td>500</td>\n",
       "    </tr>\n",
       "    <tr>\n",
       "      <th>1</th>\n",
       "      <td>2</td>\n",
       "      <td>500</td>\n",
       "    </tr>\n",
       "    <tr>\n",
       "      <th>2</th>\n",
       "      <td>3</td>\n",
       "      <td>1000</td>\n",
       "    </tr>\n",
       "    <tr>\n",
       "      <th>3</th>\n",
       "      <td>4</td>\n",
       "      <td>1500</td>\n",
       "    </tr>\n",
       "    <tr>\n",
       "      <th>4</th>\n",
       "      <td>5</td>\n",
       "      <td>1500</td>\n",
       "    </tr>\n",
       "    <tr>\n",
       "      <th>5</th>\n",
       "      <td>6</td>\n",
       "      <td>500</td>\n",
       "    </tr>\n",
       "  </tbody>\n",
       "</table>\n",
       "</div>"
      ],
      "text/plain": [
       "   kolon1  kolon2\n",
       "0       1     500\n",
       "1       2     500\n",
       "2       3    1000\n",
       "3       4    1500\n",
       "4       5    1500\n",
       "5       6     500"
      ]
     },
     "execution_count": 138,
     "metadata": {},
     "output_type": "execute_result"
    }
   ],
   "source": [
    "dataframe.drop(\"kolon3\",axis = 1)     #kalıcı silme için inplace = True  yazılır"
   ]
  },
  {
   "cell_type": "code",
   "execution_count": 139,
   "id": "8e3d6cd1",
   "metadata": {},
   "outputs": [
    {
     "data": {
      "text/plain": [
       "Index(['kolon1', 'kolon2', 'kolon3'], dtype='object')"
      ]
     },
     "execution_count": 139,
     "metadata": {},
     "output_type": "execute_result"
    }
   ],
   "source": [
    "dataframe.columns"
   ]
  },
  {
   "cell_type": "code",
   "execution_count": 140,
   "id": "44c39fcc",
   "metadata": {},
   "outputs": [
    {
     "data": {
      "text/plain": [
       "RangeIndex(start=0, stop=6, step=1)"
      ]
     },
     "execution_count": 140,
     "metadata": {},
     "output_type": "execute_result"
    }
   ],
   "source": [
    "dataframe.index"
   ]
  },
  {
   "cell_type": "code",
   "execution_count": 141,
   "id": "b25a6821",
   "metadata": {},
   "outputs": [
    {
     "data": {
      "text/plain": [
       "6"
      ]
     },
     "execution_count": 141,
     "metadata": {},
     "output_type": "execute_result"
    }
   ],
   "source": [
    "len(dataframe.index)"
   ]
  },
  {
   "cell_type": "code",
   "execution_count": 142,
   "id": "3e0e062c",
   "metadata": {},
   "outputs": [
    {
     "data": {
      "text/plain": [
       "FrozenList([None])"
      ]
     },
     "execution_count": 142,
     "metadata": {},
     "output_type": "execute_result"
    }
   ],
   "source": [
    "dataframe.index.names"
   ]
  },
  {
   "cell_type": "code",
   "execution_count": 143,
   "id": "f8cfba85",
   "metadata": {},
   "outputs": [
    {
     "data": {
      "text/html": [
       "<div>\n",
       "<style scoped>\n",
       "    .dataframe tbody tr th:only-of-type {\n",
       "        vertical-align: middle;\n",
       "    }\n",
       "\n",
       "    .dataframe tbody tr th {\n",
       "        vertical-align: top;\n",
       "    }\n",
       "\n",
       "    .dataframe thead th {\n",
       "        text-align: right;\n",
       "    }\n",
       "</style>\n",
       "<table border=\"1\" class=\"dataframe\">\n",
       "  <thead>\n",
       "    <tr style=\"text-align: right;\">\n",
       "      <th></th>\n",
       "      <th>kolon1</th>\n",
       "      <th>kolon2</th>\n",
       "      <th>kolon3</th>\n",
       "    </tr>\n",
       "  </thead>\n",
       "  <tbody>\n",
       "    <tr>\n",
       "      <th>0</th>\n",
       "      <td>1</td>\n",
       "      <td>500</td>\n",
       "      <td>kişi1</td>\n",
       "    </tr>\n",
       "    <tr>\n",
       "      <th>1</th>\n",
       "      <td>2</td>\n",
       "      <td>500</td>\n",
       "      <td>kişi2</td>\n",
       "    </tr>\n",
       "    <tr>\n",
       "      <th>5</th>\n",
       "      <td>6</td>\n",
       "      <td>500</td>\n",
       "      <td>kişi6</td>\n",
       "    </tr>\n",
       "    <tr>\n",
       "      <th>2</th>\n",
       "      <td>3</td>\n",
       "      <td>1000</td>\n",
       "      <td>kişi3</td>\n",
       "    </tr>\n",
       "    <tr>\n",
       "      <th>3</th>\n",
       "      <td>4</td>\n",
       "      <td>1500</td>\n",
       "      <td>kişi4</td>\n",
       "    </tr>\n",
       "    <tr>\n",
       "      <th>4</th>\n",
       "      <td>5</td>\n",
       "      <td>1500</td>\n",
       "      <td>kişi5</td>\n",
       "    </tr>\n",
       "  </tbody>\n",
       "</table>\n",
       "</div>"
      ],
      "text/plain": [
       "   kolon1  kolon2 kolon3\n",
       "0       1     500  kişi1\n",
       "1       2     500  kişi2\n",
       "5       6     500  kişi6\n",
       "2       3    1000  kişi3\n",
       "3       4    1500  kişi4\n",
       "4       5    1500  kişi5"
      ]
     },
     "execution_count": 143,
     "metadata": {},
     "output_type": "execute_result"
    }
   ],
   "source": [
    "dataframe.sort_values(\"kolon2\")"
   ]
  },
  {
   "cell_type": "code",
   "execution_count": 144,
   "id": "b35f687b",
   "metadata": {},
   "outputs": [
    {
     "data": {
      "text/html": [
       "<div>\n",
       "<style scoped>\n",
       "    .dataframe tbody tr th:only-of-type {\n",
       "        vertical-align: middle;\n",
       "    }\n",
       "\n",
       "    .dataframe tbody tr th {\n",
       "        vertical-align: top;\n",
       "    }\n",
       "\n",
       "    .dataframe thead th {\n",
       "        text-align: right;\n",
       "    }\n",
       "</style>\n",
       "<table border=\"1\" class=\"dataframe\">\n",
       "  <thead>\n",
       "    <tr style=\"text-align: right;\">\n",
       "      <th></th>\n",
       "      <th>kolon1</th>\n",
       "      <th>kolon2</th>\n",
       "      <th>kolon3</th>\n",
       "    </tr>\n",
       "  </thead>\n",
       "  <tbody>\n",
       "    <tr>\n",
       "      <th>3</th>\n",
       "      <td>4</td>\n",
       "      <td>1500</td>\n",
       "      <td>kişi4</td>\n",
       "    </tr>\n",
       "    <tr>\n",
       "      <th>4</th>\n",
       "      <td>5</td>\n",
       "      <td>1500</td>\n",
       "      <td>kişi5</td>\n",
       "    </tr>\n",
       "    <tr>\n",
       "      <th>2</th>\n",
       "      <td>3</td>\n",
       "      <td>1000</td>\n",
       "      <td>kişi3</td>\n",
       "    </tr>\n",
       "    <tr>\n",
       "      <th>0</th>\n",
       "      <td>1</td>\n",
       "      <td>500</td>\n",
       "      <td>kişi1</td>\n",
       "    </tr>\n",
       "    <tr>\n",
       "      <th>1</th>\n",
       "      <td>2</td>\n",
       "      <td>500</td>\n",
       "      <td>kişi2</td>\n",
       "    </tr>\n",
       "    <tr>\n",
       "      <th>5</th>\n",
       "      <td>6</td>\n",
       "      <td>500</td>\n",
       "      <td>kişi6</td>\n",
       "    </tr>\n",
       "  </tbody>\n",
       "</table>\n",
       "</div>"
      ],
      "text/plain": [
       "   kolon1  kolon2 kolon3\n",
       "3       4    1500  kişi4\n",
       "4       5    1500  kişi5\n",
       "2       3    1000  kişi3\n",
       "0       1     500  kişi1\n",
       "1       2     500  kişi2\n",
       "5       6     500  kişi6"
      ]
     },
     "execution_count": 144,
     "metadata": {},
     "output_type": "execute_result"
    }
   ],
   "source": [
    "dataframe.sort_values(\"kolon2\",ascending = False)"
   ]
  },
  {
   "cell_type": "code",
   "execution_count": 147,
   "id": "80b49b91",
   "metadata": {},
   "outputs": [],
   "source": [
    "dataframe = pandas.DataFrame({\n",
    "    \n",
    "    \"ay\":[\"mart\",\"nisan\",\"mayıs\",\"mart\",\"nisan\",\"mayıs\",\"mart\",\"nisan\",\"mayıs\"],\n",
    "    \"şehir\":[\"ankara\",\"ankara\",\"ankara\",\"istanbul\",\"istanbul\",\"istanbul\",\"izmir\",\"izmir\",\"izmir\"],\n",
    "    \"nem\":[10,25,50,21,67,80,30,70,75]\n",
    "})"
   ]
  },
  {
   "cell_type": "code",
   "execution_count": 148,
   "id": "2275567d",
   "metadata": {},
   "outputs": [
    {
     "data": {
      "text/html": [
       "<div>\n",
       "<style scoped>\n",
       "    .dataframe tbody tr th:only-of-type {\n",
       "        vertical-align: middle;\n",
       "    }\n",
       "\n",
       "    .dataframe tbody tr th {\n",
       "        vertical-align: top;\n",
       "    }\n",
       "\n",
       "    .dataframe thead th {\n",
       "        text-align: right;\n",
       "    }\n",
       "</style>\n",
       "<table border=\"1\" class=\"dataframe\">\n",
       "  <thead>\n",
       "    <tr style=\"text-align: right;\">\n",
       "      <th></th>\n",
       "      <th>ay</th>\n",
       "      <th>şehir</th>\n",
       "      <th>nem</th>\n",
       "    </tr>\n",
       "  </thead>\n",
       "  <tbody>\n",
       "    <tr>\n",
       "      <th>0</th>\n",
       "      <td>mart</td>\n",
       "      <td>ankara</td>\n",
       "      <td>10</td>\n",
       "    </tr>\n",
       "    <tr>\n",
       "      <th>1</th>\n",
       "      <td>nisan</td>\n",
       "      <td>ankara</td>\n",
       "      <td>25</td>\n",
       "    </tr>\n",
       "    <tr>\n",
       "      <th>2</th>\n",
       "      <td>mayıs</td>\n",
       "      <td>ankara</td>\n",
       "      <td>50</td>\n",
       "    </tr>\n",
       "    <tr>\n",
       "      <th>3</th>\n",
       "      <td>mart</td>\n",
       "      <td>istanbul</td>\n",
       "      <td>21</td>\n",
       "    </tr>\n",
       "    <tr>\n",
       "      <th>4</th>\n",
       "      <td>nisan</td>\n",
       "      <td>istanbul</td>\n",
       "      <td>67</td>\n",
       "    </tr>\n",
       "    <tr>\n",
       "      <th>5</th>\n",
       "      <td>mayıs</td>\n",
       "      <td>istanbul</td>\n",
       "      <td>80</td>\n",
       "    </tr>\n",
       "    <tr>\n",
       "      <th>6</th>\n",
       "      <td>mart</td>\n",
       "      <td>izmir</td>\n",
       "      <td>30</td>\n",
       "    </tr>\n",
       "    <tr>\n",
       "      <th>7</th>\n",
       "      <td>nisan</td>\n",
       "      <td>izmir</td>\n",
       "      <td>70</td>\n",
       "    </tr>\n",
       "    <tr>\n",
       "      <th>8</th>\n",
       "      <td>mayıs</td>\n",
       "      <td>izmir</td>\n",
       "      <td>75</td>\n",
       "    </tr>\n",
       "  </tbody>\n",
       "</table>\n",
       "</div>"
      ],
      "text/plain": [
       "      ay     şehir  nem\n",
       "0   mart    ankara   10\n",
       "1  nisan    ankara   25\n",
       "2  mayıs    ankara   50\n",
       "3   mart  istanbul   21\n",
       "4  nisan  istanbul   67\n",
       "5  mayıs  istanbul   80\n",
       "6   mart     izmir   30\n",
       "7  nisan     izmir   70\n",
       "8  mayıs     izmir   75"
      ]
     },
     "execution_count": 148,
     "metadata": {},
     "output_type": "execute_result"
    }
   ],
   "source": [
    "dataframe"
   ]
  },
  {
   "cell_type": "code",
   "execution_count": 149,
   "id": "5908d3c3",
   "metadata": {},
   "outputs": [
    {
     "data": {
      "text/html": [
       "<div>\n",
       "<style scoped>\n",
       "    .dataframe tbody tr th:only-of-type {\n",
       "        vertical-align: middle;\n",
       "    }\n",
       "\n",
       "    .dataframe tbody tr th {\n",
       "        vertical-align: top;\n",
       "    }\n",
       "\n",
       "    .dataframe thead th {\n",
       "        text-align: right;\n",
       "    }\n",
       "</style>\n",
       "<table border=\"1\" class=\"dataframe\">\n",
       "  <thead>\n",
       "    <tr style=\"text-align: right;\">\n",
       "      <th>şehir</th>\n",
       "      <th>ankara</th>\n",
       "      <th>istanbul</th>\n",
       "      <th>izmir</th>\n",
       "    </tr>\n",
       "    <tr>\n",
       "      <th>ay</th>\n",
       "      <th></th>\n",
       "      <th></th>\n",
       "      <th></th>\n",
       "    </tr>\n",
       "  </thead>\n",
       "  <tbody>\n",
       "    <tr>\n",
       "      <th>mart</th>\n",
       "      <td>10</td>\n",
       "      <td>21</td>\n",
       "      <td>30</td>\n",
       "    </tr>\n",
       "    <tr>\n",
       "      <th>mayıs</th>\n",
       "      <td>50</td>\n",
       "      <td>80</td>\n",
       "      <td>75</td>\n",
       "    </tr>\n",
       "    <tr>\n",
       "      <th>nisan</th>\n",
       "      <td>25</td>\n",
       "      <td>67</td>\n",
       "      <td>70</td>\n",
       "    </tr>\n",
       "  </tbody>\n",
       "</table>\n",
       "</div>"
      ],
      "text/plain": [
       "şehir  ankara  istanbul  izmir\n",
       "ay                            \n",
       "mart       10        21     30\n",
       "mayıs      50        80     75\n",
       "nisan      25        67     70"
      ]
     },
     "execution_count": 149,
     "metadata": {},
     "output_type": "execute_result"
    }
   ],
   "source": [
    "dataframe.pivot_table(index = \"ay\" , columns = \"şehir\" , values = \"nem\")"
   ]
  },
  {
   "cell_type": "code",
   "execution_count": 150,
   "id": "3f5e5330",
   "metadata": {},
   "outputs": [
    {
     "data": {
      "text/html": [
       "<div>\n",
       "<style scoped>\n",
       "    .dataframe tbody tr th:only-of-type {\n",
       "        vertical-align: middle;\n",
       "    }\n",
       "\n",
       "    .dataframe tbody tr th {\n",
       "        vertical-align: top;\n",
       "    }\n",
       "\n",
       "    .dataframe thead th {\n",
       "        text-align: right;\n",
       "    }\n",
       "</style>\n",
       "<table border=\"1\" class=\"dataframe\">\n",
       "  <thead>\n",
       "    <tr style=\"text-align: right;\">\n",
       "      <th>ay</th>\n",
       "      <th>mart</th>\n",
       "      <th>mayıs</th>\n",
       "      <th>nisan</th>\n",
       "    </tr>\n",
       "    <tr>\n",
       "      <th>şehir</th>\n",
       "      <th></th>\n",
       "      <th></th>\n",
       "      <th></th>\n",
       "    </tr>\n",
       "  </thead>\n",
       "  <tbody>\n",
       "    <tr>\n",
       "      <th>ankara</th>\n",
       "      <td>10</td>\n",
       "      <td>50</td>\n",
       "      <td>25</td>\n",
       "    </tr>\n",
       "    <tr>\n",
       "      <th>istanbul</th>\n",
       "      <td>21</td>\n",
       "      <td>80</td>\n",
       "      <td>67</td>\n",
       "    </tr>\n",
       "    <tr>\n",
       "      <th>izmir</th>\n",
       "      <td>30</td>\n",
       "      <td>75</td>\n",
       "      <td>70</td>\n",
       "    </tr>\n",
       "  </tbody>\n",
       "</table>\n",
       "</div>"
      ],
      "text/plain": [
       "ay        mart  mayıs  nisan\n",
       "şehir                       \n",
       "ankara      10     50     25\n",
       "istanbul    21     80     67\n",
       "izmir       30     75     70"
      ]
     },
     "execution_count": 150,
     "metadata": {},
     "output_type": "execute_result"
    }
   ],
   "source": [
    "dataframe.pivot_table(index = \"şehir\" , columns = \"ay\" , values = \"nem\")"
   ]
  },
  {
   "cell_type": "code",
   "execution_count": null,
   "id": "d705cfe9",
   "metadata": {},
   "outputs": [],
   "source": []
  }
 ],
 "metadata": {
  "kernelspec": {
   "display_name": "Python 3 (ipykernel)",
   "language": "python",
   "name": "python3"
  },
  "language_info": {
   "codemirror_mode": {
    "name": "ipython",
    "version": 3
   },
   "file_extension": ".py",
   "mimetype": "text/x-python",
   "name": "python",
   "nbconvert_exporter": "python",
   "pygments_lexer": "ipython3",
   "version": "3.10.2"
  }
 },
 "nbformat": 4,
 "nbformat_minor": 5
}
